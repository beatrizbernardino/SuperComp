{
 "cells": [
  {
   "cell_type": "markdown",
   "id": "27e35f0a",
   "metadata": {},
   "source": [
    "### Paralelismo do Alinhamento de Sequências de DNA\n",
    "\n",
    "###### Beatriz Rianho Bernardino\n",
    "---"
   ]
  },
  {
   "cell_type": "markdown",
   "id": "f84e8db9",
   "metadata": {},
   "source": [
    "Dentro da bioInformática, o alinhamento de sequências de DNA possui extrema importância para a identificação de padrões e nível de indentidade entre nucleotídeos ou proteínas. Esse mecanismo auxilia, por exemplo, na detecção de mutações de vírus, identificação de genomas desconhecidos e no mapeamento de sequências expressas dentro de um genoma.\n",
    "\n",
    "Para que tal alinhamento seja possível, existem diferentes estratégias computacionais que podem ser utilizadas. Como as sequências de DNA têm um tamanho elevado, é necessário levar em consideração o uso de memória e processamento que cada algoritmo necessita, realizando um trade-off entre a exatidão do alinhamento e o tempo de processamento, como demonstrado no relatório anterior.\n",
    "\n",
    "\n",
    "A busca Exaustiva é uma das possibilidades de algoritmo para alinhamento. Porém, enquanto ela garante um resultado que é um máximo global, o tempo de processamento dessa técnica é extremamento alto, por realizar a combinação de todas as subsequências existentes. Com o intuito de melhorar o desempenho dessa técnica,  o presente relatório conta com duas técnicas de paralilzação da busca exaustiva, visando a comparação do tempo de processamento entre cada uma delas.\n",
    "\n",
    "\n",
    "\n"
   ]
  },
  {
   "cell_type": "markdown",
   "id": "430958c8",
   "metadata": {},
   "source": [
    "#### Entradas\n",
    "---"
   ]
  },
  {
   "cell_type": "markdown",
   "id": "274ea7fb",
   "metadata": {},
   "source": [
    "O código abaixo é responsável por gerar arquivos com sequências aleatórias de tamanhos diferentes que serão utilizadas para as análises."
   ]
  },
  {
   "cell_type": "code",
   "execution_count": 2,
   "id": "979700f5",
   "metadata": {},
   "outputs": [],
   "source": [
    "entradas=[]\n"
   ]
  },
  {
   "cell_type": "code",
   "execution_count": 4,
   "id": "af469ff4",
   "metadata": {},
   "outputs": [],
   "source": [
    "import random\n",
    "\n",
    "for i in range(10, 200,20):\n",
    "    \n",
    "    for j in range(0,100):\n",
    "\n",
    "        n = i # tamanho da primeira sequência\n",
    "        m =  random.randint(10, i)# tamanho da segunda sequência\n",
    "        file = 'Entradas/exaustiva/dna{0}_{1}.seq'.format(i,j)  # nome do arquivo a ser gerado\n",
    "        entradas.append(n)\n",
    "        f = open(file, 'w')\n",
    "        seq = [str(n)+'\\n',\n",
    "               str(m)+'\\n',\n",
    "               ''.join(random.choices(['A', 'T', 'C', 'G'], k=n))+'\\n',\n",
    "               ''.join(random.choices(['A', 'T', 'C', 'G'], k=m))]\n",
    "        f.writelines(seq)\n",
    "        f.close()"
   ]
  },
  {
   "cell_type": "markdown",
   "id": "d68b8813",
   "metadata": {},
   "source": [
    "#### Função para rodar  cada estratégia com as entradas\n",
    "---"
   ]
  },
  {
   "cell_type": "code",
   "execution_count": 5,
   "id": "58046246",
   "metadata": {},
   "outputs": [],
   "source": [
    "import subprocess\n",
    "\n",
    "def roda_com_entrada(executavel, arquivo_in):\n",
    "    import time\n",
    "\n",
    "    with open('{0}'.format(arquivo_in)) as f:\n",
    "\n",
    "        start = time.perf_counter()\n",
    "        proc = subprocess.run([executavel], input=f.read(), text=True, capture_output=True)\n",
    "        end = time.perf_counter()\n",
    "\n",
    "\n",
    "    return (proc.stdout, end - start)"
   ]
  },
  {
   "cell_type": "markdown",
   "id": "ee90cc06",
   "metadata": {},
   "source": [
    "#### A Busca Exaustiva Tradicional\n",
    "---\n"
   ]
  },
  {
   "cell_type": "markdown",
   "id": "ed26a753",
   "metadata": {},
   "source": [
    "A busca exaustiva é um método responsável por realizar todas as combinações de alinhamento possíveis entre as sequências, garantindo assim, um resultado ótimo. Porém, justamente por realizar todas as combinações, necessita-se de um maior tempo de processamento. Para calcular o score de alinhamento de cada combinação, fez-se uso da heurística de alinhamento de Smith-Waterman. Tal heurística conta com uma matriz de alinhamento  preenchida de maneira dinâmica, através de atribuições de valores para a comparação de cada letra das subsequências analisadas.\n",
    "\n",
    "O algoritmo utilizado não possui nenhum tipo de paralelismo e pode-se observar seu desempenho conforme o tamanho das entradas aumenta abaixo:"
   ]
  },
  {
   "cell_type": "code",
   "execution_count": 6,
   "id": "95f659d1",
   "metadata": {},
   "outputs": [],
   "source": [
    "tempos_ex1=[]"
   ]
  },
  {
   "cell_type": "code",
   "execution_count": 8,
   "id": "a0f5a591",
   "metadata": {},
   "outputs": [
    {
     "ename": "OSError",
     "evalue": "[Errno 8] Exec format error: './Exaustiva/exaustiva_dois'",
     "output_type": "error",
     "traceback": [
      "\u001b[0;31m---------------------------------------------------------------------------\u001b[0m",
      "\u001b[0;31mOSError\u001b[0m                                   Traceback (most recent call last)",
      "\u001b[0;32m<ipython-input-8-226ff69e5b2c>\u001b[0m in \u001b[0;36m<module>\u001b[0;34m\u001b[0m\n\u001b[1;32m      2\u001b[0m     \u001b[0mavg_time\u001b[0m\u001b[0;34m=\u001b[0m\u001b[0;34m[\u001b[0m\u001b[0;34m]\u001b[0m\u001b[0;34m\u001b[0m\u001b[0;34m\u001b[0m\u001b[0m\n\u001b[1;32m      3\u001b[0m     \u001b[0;32mfor\u001b[0m \u001b[0mj\u001b[0m \u001b[0;32min\u001b[0m \u001b[0mrange\u001b[0m \u001b[0;34m(\u001b[0m\u001b[0;36m0\u001b[0m\u001b[0;34m,\u001b[0m\u001b[0;36m100\u001b[0m\u001b[0;34m)\u001b[0m\u001b[0;34m:\u001b[0m\u001b[0;34m\u001b[0m\u001b[0;34m\u001b[0m\u001b[0m\n\u001b[0;32m----> 4\u001b[0;31m         \u001b[0mout\u001b[0m\u001b[0;34m,\u001b[0m \u001b[0mtime\u001b[0m\u001b[0;34m=\u001b[0m \u001b[0mroda_com_entrada\u001b[0m\u001b[0;34m(\u001b[0m\u001b[0;34m'./Exaustiva/exaustiva_dois'\u001b[0m\u001b[0;34m,\u001b[0m \u001b[0;34m'Entradas/exaustiva/dna{0}_{1}.seq'\u001b[0m\u001b[0;34m.\u001b[0m\u001b[0mformat\u001b[0m\u001b[0;34m(\u001b[0m\u001b[0mi\u001b[0m\u001b[0;34m,\u001b[0m\u001b[0mj\u001b[0m\u001b[0;34m)\u001b[0m\u001b[0;34m)\u001b[0m\u001b[0;34m\u001b[0m\u001b[0;34m\u001b[0m\u001b[0m\n\u001b[0m\u001b[1;32m      5\u001b[0m         \u001b[0mavg_time\u001b[0m\u001b[0;34m.\u001b[0m\u001b[0mappend\u001b[0m\u001b[0;34m(\u001b[0m\u001b[0mtime\u001b[0m\u001b[0;34m)\u001b[0m\u001b[0;34m\u001b[0m\u001b[0;34m\u001b[0m\u001b[0m\n\u001b[1;32m      6\u001b[0m     \u001b[0mtempos_ex1\u001b[0m\u001b[0;34m.\u001b[0m\u001b[0mappend\u001b[0m\u001b[0;34m(\u001b[0m\u001b[0mnp\u001b[0m\u001b[0;34m.\u001b[0m\u001b[0mmean\u001b[0m\u001b[0;34m(\u001b[0m\u001b[0mavg_time\u001b[0m\u001b[0;34m)\u001b[0m\u001b[0;34m)\u001b[0m\u001b[0;34m\u001b[0m\u001b[0;34m\u001b[0m\u001b[0m\n",
      "\u001b[0;32m<ipython-input-5-1c40e0742b34>\u001b[0m in \u001b[0;36mroda_com_entrada\u001b[0;34m(executavel, arquivo_in)\u001b[0m\n\u001b[1;32m      7\u001b[0m \u001b[0;34m\u001b[0m\u001b[0m\n\u001b[1;32m      8\u001b[0m         \u001b[0mstart\u001b[0m \u001b[0;34m=\u001b[0m \u001b[0mtime\u001b[0m\u001b[0;34m.\u001b[0m\u001b[0mperf_counter\u001b[0m\u001b[0;34m(\u001b[0m\u001b[0;34m)\u001b[0m\u001b[0;34m\u001b[0m\u001b[0;34m\u001b[0m\u001b[0m\n\u001b[0;32m----> 9\u001b[0;31m         \u001b[0mproc\u001b[0m \u001b[0;34m=\u001b[0m \u001b[0msubprocess\u001b[0m\u001b[0;34m.\u001b[0m\u001b[0mrun\u001b[0m\u001b[0;34m(\u001b[0m\u001b[0;34m[\u001b[0m\u001b[0mexecutavel\u001b[0m\u001b[0;34m]\u001b[0m\u001b[0;34m,\u001b[0m \u001b[0minput\u001b[0m\u001b[0;34m=\u001b[0m\u001b[0mf\u001b[0m\u001b[0;34m.\u001b[0m\u001b[0mread\u001b[0m\u001b[0;34m(\u001b[0m\u001b[0;34m)\u001b[0m\u001b[0;34m,\u001b[0m \u001b[0mtext\u001b[0m\u001b[0;34m=\u001b[0m\u001b[0;32mTrue\u001b[0m\u001b[0;34m,\u001b[0m \u001b[0mcapture_output\u001b[0m\u001b[0;34m=\u001b[0m\u001b[0;32mTrue\u001b[0m\u001b[0;34m)\u001b[0m\u001b[0;34m\u001b[0m\u001b[0;34m\u001b[0m\u001b[0m\n\u001b[0m\u001b[1;32m     10\u001b[0m         \u001b[0mend\u001b[0m \u001b[0;34m=\u001b[0m \u001b[0mtime\u001b[0m\u001b[0;34m.\u001b[0m\u001b[0mperf_counter\u001b[0m\u001b[0;34m(\u001b[0m\u001b[0;34m)\u001b[0m\u001b[0;34m\u001b[0m\u001b[0;34m\u001b[0m\u001b[0m\n\u001b[1;32m     11\u001b[0m \u001b[0;34m\u001b[0m\u001b[0m\n",
      "\u001b[0;32m/usr/local/Cellar/python@3.9/3.9.10/Frameworks/Python.framework/Versions/3.9/lib/python3.9/subprocess.py\u001b[0m in \u001b[0;36mrun\u001b[0;34m(input, capture_output, timeout, check, *popenargs, **kwargs)\u001b[0m\n\u001b[1;32m    503\u001b[0m         \u001b[0mkwargs\u001b[0m\u001b[0;34m[\u001b[0m\u001b[0;34m'stderr'\u001b[0m\u001b[0;34m]\u001b[0m \u001b[0;34m=\u001b[0m \u001b[0mPIPE\u001b[0m\u001b[0;34m\u001b[0m\u001b[0;34m\u001b[0m\u001b[0m\n\u001b[1;32m    504\u001b[0m \u001b[0;34m\u001b[0m\u001b[0m\n\u001b[0;32m--> 505\u001b[0;31m     \u001b[0;32mwith\u001b[0m \u001b[0mPopen\u001b[0m\u001b[0;34m(\u001b[0m\u001b[0;34m*\u001b[0m\u001b[0mpopenargs\u001b[0m\u001b[0;34m,\u001b[0m \u001b[0;34m**\u001b[0m\u001b[0mkwargs\u001b[0m\u001b[0;34m)\u001b[0m \u001b[0;32mas\u001b[0m \u001b[0mprocess\u001b[0m\u001b[0;34m:\u001b[0m\u001b[0;34m\u001b[0m\u001b[0;34m\u001b[0m\u001b[0m\n\u001b[0m\u001b[1;32m    506\u001b[0m         \u001b[0;32mtry\u001b[0m\u001b[0;34m:\u001b[0m\u001b[0;34m\u001b[0m\u001b[0;34m\u001b[0m\u001b[0m\n\u001b[1;32m    507\u001b[0m             \u001b[0mstdout\u001b[0m\u001b[0;34m,\u001b[0m \u001b[0mstderr\u001b[0m \u001b[0;34m=\u001b[0m \u001b[0mprocess\u001b[0m\u001b[0;34m.\u001b[0m\u001b[0mcommunicate\u001b[0m\u001b[0;34m(\u001b[0m\u001b[0minput\u001b[0m\u001b[0;34m,\u001b[0m \u001b[0mtimeout\u001b[0m\u001b[0;34m=\u001b[0m\u001b[0mtimeout\u001b[0m\u001b[0;34m)\u001b[0m\u001b[0;34m\u001b[0m\u001b[0;34m\u001b[0m\u001b[0m\n",
      "\u001b[0;32m/usr/local/Cellar/python@3.9/3.9.10/Frameworks/Python.framework/Versions/3.9/lib/python3.9/subprocess.py\u001b[0m in \u001b[0;36m__init__\u001b[0;34m(self, args, bufsize, executable, stdin, stdout, stderr, preexec_fn, close_fds, shell, cwd, env, universal_newlines, startupinfo, creationflags, restore_signals, start_new_session, pass_fds, user, group, extra_groups, encoding, errors, text, umask)\u001b[0m\n\u001b[1;32m    949\u001b[0m                             encoding=encoding, errors=errors)\n\u001b[1;32m    950\u001b[0m \u001b[0;34m\u001b[0m\u001b[0m\n\u001b[0;32m--> 951\u001b[0;31m             self._execute_child(args, executable, preexec_fn, close_fds,\n\u001b[0m\u001b[1;32m    952\u001b[0m                                 \u001b[0mpass_fds\u001b[0m\u001b[0;34m,\u001b[0m \u001b[0mcwd\u001b[0m\u001b[0;34m,\u001b[0m \u001b[0menv\u001b[0m\u001b[0;34m,\u001b[0m\u001b[0;34m\u001b[0m\u001b[0;34m\u001b[0m\u001b[0m\n\u001b[1;32m    953\u001b[0m                                 \u001b[0mstartupinfo\u001b[0m\u001b[0;34m,\u001b[0m \u001b[0mcreationflags\u001b[0m\u001b[0;34m,\u001b[0m \u001b[0mshell\u001b[0m\u001b[0;34m,\u001b[0m\u001b[0;34m\u001b[0m\u001b[0;34m\u001b[0m\u001b[0m\n",
      "\u001b[0;32m/usr/local/Cellar/python@3.9/3.9.10/Frameworks/Python.framework/Versions/3.9/lib/python3.9/subprocess.py\u001b[0m in \u001b[0;36m_execute_child\u001b[0;34m(self, args, executable, preexec_fn, close_fds, pass_fds, cwd, env, startupinfo, creationflags, shell, p2cread, p2cwrite, c2pread, c2pwrite, errread, errwrite, restore_signals, gid, gids, uid, umask, start_new_session)\u001b[0m\n\u001b[1;32m   1819\u001b[0m                     \u001b[0;32mif\u001b[0m \u001b[0merrno_num\u001b[0m \u001b[0;34m!=\u001b[0m \u001b[0;36m0\u001b[0m\u001b[0;34m:\u001b[0m\u001b[0;34m\u001b[0m\u001b[0;34m\u001b[0m\u001b[0m\n\u001b[1;32m   1820\u001b[0m                         \u001b[0merr_msg\u001b[0m \u001b[0;34m=\u001b[0m \u001b[0mos\u001b[0m\u001b[0;34m.\u001b[0m\u001b[0mstrerror\u001b[0m\u001b[0;34m(\u001b[0m\u001b[0merrno_num\u001b[0m\u001b[0;34m)\u001b[0m\u001b[0;34m\u001b[0m\u001b[0;34m\u001b[0m\u001b[0m\n\u001b[0;32m-> 1821\u001b[0;31m                     \u001b[0;32mraise\u001b[0m \u001b[0mchild_exception_type\u001b[0m\u001b[0;34m(\u001b[0m\u001b[0merrno_num\u001b[0m\u001b[0;34m,\u001b[0m \u001b[0merr_msg\u001b[0m\u001b[0;34m,\u001b[0m \u001b[0merr_filename\u001b[0m\u001b[0;34m)\u001b[0m\u001b[0;34m\u001b[0m\u001b[0;34m\u001b[0m\u001b[0m\n\u001b[0m\u001b[1;32m   1822\u001b[0m                 \u001b[0;32mraise\u001b[0m \u001b[0mchild_exception_type\u001b[0m\u001b[0;34m(\u001b[0m\u001b[0merr_msg\u001b[0m\u001b[0;34m)\u001b[0m\u001b[0;34m\u001b[0m\u001b[0;34m\u001b[0m\u001b[0m\n\u001b[1;32m   1823\u001b[0m \u001b[0;34m\u001b[0m\u001b[0m\n",
      "\u001b[0;31mOSError\u001b[0m: [Errno 8] Exec format error: './Exaustiva/exaustiva_dois'"
     ]
    }
   ],
   "source": [
    "for i in range(10,100,20):\n",
    "    avg_time=[]\n",
    "    for j in range (0,100):\n",
    "        out, time= roda_com_entrada('./Exaustiva/exaustiva_dois', 'Entradas/exaustiva/dna{0}_{1}.seq'.format(i,j))\n",
    "        avg_time.append(time)\n",
    "    tempos_ex1.append(np.mean(avg_time))"
   ]
  },
  {
   "cell_type": "code",
   "execution_count": null,
   "id": "7e3caee3",
   "metadata": {},
   "outputs": [],
   "source": [
    "ex1_en = []\n",
    "for i in entradas[:500]:\n",
    "    if i not in ex1_en:\n",
    "        ex1_en.append(i)"
   ]
  },
  {
   "cell_type": "code",
   "execution_count": null,
   "id": "0c764328",
   "metadata": {},
   "outputs": [],
   "source": [
    "import matplotlib.pyplot as plt\n",
    "\n",
    "plt.scatter(ex1_en, tempos_ex1)\n",
    "plt.xlabel(\"Tamanho das Entradas(N)\")\n",
    "plt.ylabel(\"Tempo\")\n",
    "plt.title(\"Exaustiva versão 1\")\n",
    "plt.grid()\n",
    "plt.show()"
   ]
  }
 ],
 "metadata": {
  "kernelspec": {
   "display_name": "Python 3",
   "language": "python",
   "name": "python3"
  },
  "language_info": {
   "codemirror_mode": {
    "name": "ipython",
    "version": 3
   },
   "file_extension": ".py",
   "mimetype": "text/x-python",
   "name": "python",
   "nbconvert_exporter": "python",
   "pygments_lexer": "ipython3",
   "version": "3.9.10"
  }
 },
 "nbformat": 4,
 "nbformat_minor": 5
}
