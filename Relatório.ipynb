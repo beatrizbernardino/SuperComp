{
 "cells": [
  {
   "cell_type": "markdown",
   "id": "65efd694",
   "metadata": {},
   "source": [
    "### Algoritmo Smith-Waterman\n",
    "---"
   ]
  },
  {
   "cell_type": "markdown",
   "id": "ceb5ed1d",
   "metadata": {},
   "source": [
    "Utilizando um vetor de vetores como matriz, o algoritmo feito foi baseado no seguinte pseudo-código:\n"
   ]
  },
  {
   "cell_type": "markdown",
   "id": "a177ce2c",
   "metadata": {},
   "source": [
    "\n",
    "1. Inicializar H[i,0]=0, 0≤i≤n\n",
    "2. Inicializar H[0,j]=0, 0≤j≤m\n",
    "3. Para cada 1≤i≤n e 1≤j≤m:\n",
    "4.     Calcular diagonal = H[i-1,j-1] + w(a[i],b[j]), onde w(a[i],b[j])=2 se houve match, \n",
    "                           w(a[i],b[j])= -1 se houve mismatch e  \n",
    "                           w(a[i],b[j])= -1 se houve gap\n",
    "5.     Calcular deleção  = H[i-1,j] - 1\n",
    "6.     Calcular inserção = H[i,j-1] - 1\n",
    "7.     Calcular H[i,j]=máximo (0, diagonal, deleção, inserção)\n",
    "9. Retornar o máximo de H[_,_]\n",
    "\n",
    "\n"
   ]
  },
  {
   "cell_type": "markdown",
   "id": "3aba1cb4",
   "metadata": {},
   "source": [
    "Para rodar o executável: \n",
    "\n",
    "                                ./ingenuo < dna.seq > out.txt"
   ]
  },
  {
   "cell_type": "markdown",
   "id": "eb036a22",
   "metadata": {},
   "source": [
    "O arquivo de entrada 'dna.seq' possui sequências geradas aleatoriamente a partir do código fornecido no arquivo sequencias.py"
   ]
  },
  {
   "cell_type": "markdown",
   "id": "0f5924bc",
   "metadata": {},
   "source": [
    "### Exemplo de Entrada e Saída\n",
    "---"
   ]
  },
  {
   "cell_type": "markdown",
   "id": "af8316c5",
   "metadata": {},
   "source": [
    "#### Input"
   ]
  },
  {
   "cell_type": "markdown",
   "id": "3bb522c2",
   "metadata": {},
   "source": [
    "Através do .py são geradas duas sequências com tamanho de 10 (N) e 40 (M) letras aleatórias, respectivamente. Com isso, o arquivo de entrada é composto por esses dados."
   ]
  },
  {
   "cell_type": "markdown",
   "id": "a4946414",
   "metadata": {},
   "source": [
    "                                        10\n",
    "                                        40\n",
    "                                        GGT-TAC-GA\n",
    "                                        AA-GTACT-TC-CGAT-ATCG-T-C--TCC-AACATCGAG"
   ]
  },
  {
   "cell_type": "markdown",
   "id": "dff46915",
   "metadata": {},
   "source": [
    "#### Output"
   ]
  },
  {
   "cell_type": "markdown",
   "id": "9a70fd2f",
   "metadata": {},
   "source": [
    "                                                T-T-C-CGA\n",
    "                                                T-TAC--GA\n"
   ]
  },
  {
   "cell_type": "markdown",
   "id": "96abeca9",
   "metadata": {},
   "source": [
    "Apenas a parte das sequências que pode ser alinhada é retornada."
   ]
  },
  {
   "cell_type": "code",
   "execution_count": null,
   "id": "a65868fb",
   "metadata": {},
   "outputs": [],
   "source": []
  }
 ],
 "metadata": {
  "kernelspec": {
   "display_name": "Python 3",
   "language": "python",
   "name": "python3"
  },
  "language_info": {
   "codemirror_mode": {
    "name": "ipython",
    "version": 3
   },
   "file_extension": ".py",
   "mimetype": "text/x-python",
   "name": "python",
   "nbconvert_exporter": "python",
   "pygments_lexer": "ipython3",
   "version": "3.9.10"
  }
 },
 "nbformat": 4,
 "nbformat_minor": 5
}
