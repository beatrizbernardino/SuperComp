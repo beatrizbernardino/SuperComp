{
 "cells": [
  {
   "cell_type": "markdown",
   "id": "c6297850",
   "metadata": {},
   "source": [
    "### Busca Exaustiva Paralelizada"
   ]
  },
  {
   "cell_type": "markdown",
   "id": "9c931cf9",
   "metadata": {},
   "source": [
    "Como mostrado no relatório intermediário, a busca exaustiva foi o método que precisava de maior poder computacional, demorando mais tempo. Por isso, foi escolhida a busca exaustiva com o score calculado a partir da Heurística de Smith-Waterman para ser otimizada a partir do openmp. \n",
    "\n",
    "Para isso, fez-se uso do recurso parallel for para calcular as matrizes de cada combinação de subsequências. Porém, ao rodar esse **for** sem caracterizar a matriz como um recurso firstprivate, o comportamento das threads fazia com que o score de cada char fosse calculado erroneamente, retornando sempre um resultado diferente.\n",
    "\n",
    "Por esse fator, ao deixar a matriz como um recurso privado, o código acabou adquirindo um caráter mais sequencial, necessitando de mais tempo que o código sequencial, como é possível observar abaixo:"
   ]
  },
  {
   "cell_type": "markdown",
   "id": "d73f3263",
   "metadata": {},
   "source": [
    "#### Código Paralelizado"
   ]
  },
  {
   "cell_type": "code",
   "execution_count": 10,
   "id": "fa7de09b",
   "metadata": {},
   "outputs": [],
   "source": [
    "import subprocess\n",
    "\n",
    "def roda_com_entrada(executavel, arquivo_in):\n",
    "    import time\n",
    "\n",
    "    with open('{0}'.format(arquivo_in)) as f:\n",
    "\n",
    "        start = time.perf_counter()\n",
    "        proc = subprocess.run([executavel], input=f.read(), text=True, capture_output=True)\n",
    "        end = time.perf_counter()\n",
    "\n",
    "\n",
    "    return (proc.stdout, end - start)"
   ]
  },
  {
   "cell_type": "code",
   "execution_count": 11,
   "id": "6369d337",
   "metadata": {},
   "outputs": [
    {
     "name": "stdout",
     "output_type": "stream",
     "text": [
      "\n",
      "\n",
      "33\n",
      "\n",
      "23.86809965900011\n"
     ]
    }
   ],
   "source": [
    "import numpy as np\n",
    "\n",
    "out, time= roda_com_entrada('./exaustiva_paralela', '../Entradas/dna70_27.seq')\n",
    "\n",
    "print(out)\n",
    "print(time)\n",
    "    "
   ]
  },
  {
   "cell_type": "markdown",
   "id": "58f6e440",
   "metadata": {},
   "source": [
    "#### Código Sequencial"
   ]
  },
  {
   "cell_type": "code",
   "execution_count": 12,
   "id": "ae7992d5",
   "metadata": {},
   "outputs": [
    {
     "name": "stdout",
     "output_type": "stream",
     "text": [
      "MAX SCORE: 33\n",
      "\n",
      "8.703718588000129\n"
     ]
    }
   ],
   "source": [
    "out, time= roda_com_entrada('./exaustiva_dois', '../Entradas/dna70_27.seq')\n",
    "\n",
    "print(out)\n",
    "print(time)\n",
    "    "
   ]
  },
  {
   "cell_type": "markdown",
   "id": "e9c57d81",
   "metadata": {},
   "source": [
    "#### Arquivo de entrada"
   ]
  },
  {
   "cell_type": "markdown",
   "id": "8136b3b6",
   "metadata": {},
   "source": [
    "```\n",
    "70\n",
    "35\n",
    "ACACTCATTGACCGTTCTGCCTTTTCCTAACATGCCCCGGATAACGTACGAGGGCGGGCGTAGCCGAATT\n",
    "TACCGTGGGAGGAAGCTAGGGTAGTCTGGATTGAT\n",
    "\n",
    "```"
   ]
  },
  {
   "cell_type": "code",
   "execution_count": null,
   "id": "8bcf7c0c",
   "metadata": {},
   "outputs": [],
   "source": []
  }
 ],
 "metadata": {
  "kernelspec": {
   "display_name": "Python 3 (ipykernel)",
   "language": "python",
   "name": "python3"
  },
  "language_info": {
   "codemirror_mode": {
    "name": "ipython",
    "version": 3
   },
   "file_extension": ".py",
   "mimetype": "text/x-python",
   "name": "python",
   "nbconvert_exporter": "python",
   "pygments_lexer": "ipython3",
   "version": "3.8.10"
  }
 },
 "nbformat": 4,
 "nbformat_minor": 5
}
