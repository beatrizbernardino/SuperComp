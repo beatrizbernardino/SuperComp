{
 "cells": [
  {
   "cell_type": "markdown",
   "id": "3bbbf1b9",
   "metadata": {},
   "source": [
    "### Busca Exaustiva\n",
    "---"
   ]
  },
  {
   "cell_type": "markdown",
   "id": "b78c8a1e",
   "metadata": {},
   "source": [
    "O algoritmo feito foi baseado no seguinte pseudo-código:\n"
   ]
  },
  {
   "cell_type": "markdown",
   "id": "f1093fd2",
   "metadata": {},
   "source": [
    "```\n",
    "ALGORITMO BUSCA EXAUSTIVA\n",
    "Entrada: Duas sequencias de DNA a e b\n",
    "        Pesos wmat, wmis e wgap para match, mismatch e gap respectivamente\n",
    "Saída: Score de um alinhamento das sequencias\n",
    "      Subsequencias alinhadas\n",
    "\n",
    "1. Gerar todas as subsequencias a´ e b´ não-nulas de a e b, respectivamente.\n",
    "2. Calcular os alinhamentos de cada par de subsequencias (a´, b´) com os pesos wmat, wmis e wgap\n",
    "3. Devolver o score máximo m entre os scores do passo (2) e as subsequencias associadas a ele\n",
    "```"
   ]
  },
  {
   "cell_type": "markdown",
   "id": "dbe55d1d",
   "metadata": {},
   "source": [
    "Para rodar o executável: \n",
    "\n",
    "                                ./exaustiva < dna.seq > out.txt\n",
    "                                ./exaustiva_dois < dna.seq > out.txt"
   ]
  },
  {
   "cell_type": "markdown",
   "id": "b6a13750",
   "metadata": {},
   "source": [
    "O arquivo de entrada 'dna.seq' possui sequências geradas aleatoriamente a partir do código fornecido no arquivo sequencias.py\n"
   ]
  },
  {
   "cell_type": "markdown",
   "id": "6631e1ea",
   "metadata": {},
   "source": [
    "### Sobre o Método utilizado\n",
    "---"
   ]
  },
  {
   "cell_type": "markdown",
   "id": "30e4faba",
   "metadata": {},
   "source": [
    "Dois métodos foram utilizados para realizar a busca exaustiva:\n",
    "\n",
    " - A estratégia vista no primeiro projeto (Alinhamento Local de Smith-Waterman) para comparar duas subsequencias\n",
    " - Um truncamento da subsequencia maior pelo tamanho da subsequencia menor e calcular o score simples entre as duas subsequencias resultantes \n",
    " \n",
    " \n",
    "O método da Busca Exaustiva garante como resultado um máximo global. Porém, como ele realiza todas as combinações possíveis de subsequências, os tempos de execução são consideravelmente mais altos.\n",
    "\n"
   ]
  },
  {
   "cell_type": "markdown",
   "id": "7beed349",
   "metadata": {},
   "source": [
    "\n",
    "\n",
    "\n",
    "\n",
    "#### Input\n",
    "\n",
    "Através do .py são geradas duas sequências com tamanho de 10 (N) e 40 (M) letras aleatórias, respectivamente. Com isso, o arquivo de entrada é composto por esses dados.\n",
    "\n",
    "                                    10\n",
    "                                    40\n",
    "                                    GGT-TAC-GA\n",
    "                                    AA-GTACT-TC-CGAT-ATCG-T-C--TCC-AACATCGAG\n",
    "\n",
    "#### Output\n",
    "\n",
    "                                           ------------\n",
    "\n",
    "                                            MAXSCORE: 3\n",
    "\n",
    "                                            SEQB: CTA\n",
    "                                            SEQA: CCA\n",
    "\n",
    "                                            ------------"
   ]
  },
  {
   "cell_type": "code",
   "execution_count": null,
   "id": "a27af8bb",
   "metadata": {},
   "outputs": [],
   "source": []
  }
 ],
 "metadata": {
  "kernelspec": {
   "display_name": "Python 3 (ipykernel)",
   "language": "python",
   "name": "python3"
  },
  "language_info": {
   "codemirror_mode": {
    "name": "ipython",
    "version": 3
   },
   "file_extension": ".py",
   "mimetype": "text/x-python",
   "name": "python",
   "nbconvert_exporter": "python",
   "pygments_lexer": "ipython3",
   "version": "3.8.10"
  }
 },
 "nbformat": 4,
 "nbformat_minor": 5
}
