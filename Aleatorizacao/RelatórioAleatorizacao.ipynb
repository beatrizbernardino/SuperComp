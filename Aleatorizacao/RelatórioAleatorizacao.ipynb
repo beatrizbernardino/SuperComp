{
 "cells": [
  {
   "cell_type": "markdown",
   "id": "65efd694",
   "metadata": {},
   "source": [
    "### Agoritmo local para alinhamento\n",
    "---"
   ]
  },
  {
   "cell_type": "markdown",
   "id": "ceb5ed1d",
   "metadata": {},
   "source": [
    "Utilizando um vetor de vetores como matriz, o algoritmo feito foi baseado no seguinte pseudo-código:\n"
   ]
  },
  {
   "cell_type": "markdown",
   "id": "a177ce2c",
   "metadata": {},
   "source": [
    "\n",
    "1. Gerar uma subsequencia sb=b[j,j+1,...,j+k] de b, de tamanho aleatório k, 1<=k<=m, e 0<=j<=m \n",
    "2. Gerar um número aleatório inteiro positivo p\n",
    "3. Gerar p subsequencias sa=a[i,i+1,...,i+k] de a, com tamanho k calculado no passo (1), 0<=i<=n\n",
    "4. Calcular os scores de cada par (sa,sb) com os pesos wmat, wmis e wgap\n",
    "5. Devolver o score máximo m entre os scores do passo (4) e as subsequencias associadas a ele\n",
    "\n",
    "\n"
   ]
  },
  {
   "cell_type": "markdown",
   "id": "3aba1cb4",
   "metadata": {},
   "source": [
    "Para rodar o executável: \n",
    "\n",
    "                                ./aleatorio < dna.seq > out.txt"
   ]
  },
  {
   "cell_type": "markdown",
   "id": "eb036a22",
   "metadata": {},
   "source": [
    "O arquivo de entrada 'dna.seq' possui sequências geradas aleatoriamente a partir do código fornecido no arquivo sequencias.py\n",
    "\n"
   ]
  },
  {
   "cell_type": "markdown",
   "id": "7c52a362",
   "metadata": {},
   "source": [
    "### Sobre o Método utilizado\n",
    "---"
   ]
  },
  {
   "cell_type": "markdown",
   "id": "308f2f4e",
   "metadata": {},
   "source": [
    "Para o alihamento das sequências fornecidas, primeiro elas foram divididas em subsequências de tamanho menor, e com o uso da aleatorização, pode-se obter qual par (sa, sb) obteu um maior score, ou seja, teve um melhor alinhamento. \n",
    "\n",
    "Cada score foi atribuído ao par das subsequências de acordo com a Heurística de Smith-Waterman. Tal método pode gerar um custo computacional maior, porém garante um resultado mais confiável. \n",
    "\n",
    "Para poder consluir a eficácia da aleatoriedade, o código é rodado 100 vezes, podendo-se observar que há uma variação nos scores obtidos cada uma das vezes, justamente por serem sequências calculadas aleatoriamente. "
   ]
  },
  {
   "cell_type": "markdown",
   "id": "0f5924bc",
   "metadata": {},
   "source": [
    "### Exemplo de Entrada e Saída\n",
    "---"
   ]
  },
  {
   "cell_type": "markdown",
   "id": "af8316c5",
   "metadata": {},
   "source": [
    "#### Input"
   ]
  },
  {
   "cell_type": "markdown",
   "id": "3bb522c2",
   "metadata": {},
   "source": [
    "Através do .py são geradas duas sequências com tamanho de 10 (N) e 40 (M) letras aleatórias, respectivamente. Com isso, o arquivo de entrada é composto por esses dados."
   ]
  },
  {
   "cell_type": "markdown",
   "id": "a4946414",
   "metadata": {},
   "source": [
    "                                        10\n",
    "                                        40\n",
    "                                        GGT-TAC-GA\n",
    "                                        AA-GTACT-TC-CGAT-ATCG-T-C--TCC-AACATCGAG"
   ]
  },
  {
   "cell_type": "markdown",
   "id": "dff46915",
   "metadata": {},
   "source": [
    "#### Output"
   ]
  },
  {
   "cell_type": "markdown",
   "id": "9a70fd2f",
   "metadata": {},
   "source": [
    "                                               ------------\n",
    "\n",
    "                                                MAXSCORE: 3\n",
    "\n",
    "                                                SEQB: CTA\n",
    "                                                SEQA: CCA\n",
    "\n",
    "                                                ------------"
   ]
  },
  {
   "cell_type": "code",
   "execution_count": null,
   "id": "a65868fb",
   "metadata": {},
   "outputs": [],
   "source": []
  }
 ],
 "metadata": {
  "kernelspec": {
   "display_name": "Python 3",
   "language": "python",
   "name": "python3"
  },
  "language_info": {
   "codemirror_mode": {
    "name": "ipython",
    "version": 3
   },
   "file_extension": ".py",
   "mimetype": "text/x-python",
   "name": "python",
   "nbconvert_exporter": "python",
   "pygments_lexer": "ipython3",
   "version": "3.9.10"
  }
 },
 "nbformat": 4,
 "nbformat_minor": 5
}
