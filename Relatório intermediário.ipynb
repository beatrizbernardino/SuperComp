{
 "cells": [
  {
   "cell_type": "markdown",
   "id": "88b5d754",
   "metadata": {},
   "source": [
    "### Alinhamento de Sequências de DNA\n",
    "\n",
    "###### Beatriz Rianho Bernardino\n",
    "---"
   ]
  },
  {
   "cell_type": "markdown",
   "id": "dcbd65a2",
   "metadata": {},
   "source": [
    "Dentro da bioInformática, o alinhamento de sequências de DNA possui extrema importância para a identificação de padrões e nível de indentidade entre nucleotídeos ou proteínas. Esse mecanismo auxilia, por exemplo, na detecção de mutações de vírus, identificação de genomas desconhecidos e no mapeamento de sequências expressas dentro de um genoma.\n",
    "\n",
    "Para que tal alinhamento seja possível, existem diferentes estratégias computacionais que podem ser utilizadas. Como as sequências de DNA têm um tamanho elevado, é necessário levar em consideração o uso de memória e processamento que cada algoritmo necessita, realizando um trade-off entre a exatidão do alinhamento e o tempo de processamento. \n",
    "\n",
    "As estratégias utilizadas no presente relatório envolvem o uso de uma Heurística, método considerado 100% exploitation, um algoritmo baseado na busca por aleatoriedade, método que faz uso da exploration, e duas técnicas diferentes de busca exaustiva, estratégia que considera todas as combinações possíveis para o alinhamento. \n"
   ]
  },
  {
   "cell_type": "markdown",
   "id": "5f9ca5d2",
   "metadata": {},
   "source": [
    "#### Entradas\n",
    "---"
   ]
  },
  {
   "cell_type": "markdown",
   "id": "6e240e7a",
   "metadata": {},
   "source": [
    "O código abaixo é responsável por gerar arquivos com sequências aleatórias de tamanhos diferentes que serão utilizadas para as análises."
   ]
  },
  {
   "cell_type": "code",
   "execution_count": 1,
   "id": "875bf4c8",
   "metadata": {},
   "outputs": [],
   "source": [
    "entradas=[]\n"
   ]
  },
  {
   "cell_type": "code",
   "execution_count": 2,
   "id": "40742e11",
   "metadata": {},
   "outputs": [],
   "source": [
    "import random\n",
    "\n",
    "for i in range(10, 400,20):\n",
    "    \n",
    "    for j in range(0,100):\n",
    "\n",
    "        n = i # tamanho da primeira sequência\n",
    "        m =  random.randint(10, i)# tamanho da segunda sequência\n",
    "        file = 'Entradas/dna{0}_{1}.seq'.format(i,j)  # nome do arquivo a ser gerado\n",
    "        entradas.append(n)\n",
    "        f = open(file, 'w')\n",
    "        seq = [str(n)+'\\n',\n",
    "               str(m)+'\\n',\n",
    "               ''.join(random.choices(['A', 'T', 'C', 'G'], k=n))+'\\n',\n",
    "               ''.join(random.choices(['A', 'T', 'C', 'G'], k=m))]\n",
    "        f.writelines(seq)\n",
    "        f.close()\n",
    "#     print(''.join(seq))\n"
   ]
  },
  {
   "cell_type": "markdown",
   "id": "094116a8",
   "metadata": {},
   "source": [
    "#### Função para rodar  cada estratégia com as entradas\n",
    "---"
   ]
  },
  {
   "cell_type": "code",
   "execution_count": 3,
   "id": "b5750932",
   "metadata": {},
   "outputs": [],
   "source": [
    "import subprocess\n",
    "\n",
    "def roda_com_entrada(executavel, arquivo_in):\n",
    "    import time\n",
    "\n",
    "    with open('{0}'.format(arquivo_in)) as f:\n",
    "\n",
    "        start = time.perf_counter()\n",
    "        proc = subprocess.run([executavel], input=f.read(), text=True, capture_output=True)\n",
    "        end = time.perf_counter()\n",
    "\n",
    "\n",
    "    return (proc.stdout, end - start)"
   ]
  },
  {
   "cell_type": "markdown",
   "id": "e271e9de",
   "metadata": {},
   "source": [
    "#### Heurística de Alinhamento Local de Smith-Waterman¶ \n",
    "---"
   ]
  },
  {
   "cell_type": "markdown",
   "id": "5a851225",
   "metadata": {},
   "source": [
    "Ao utilizar uma Heurística de alinhamento,  é possível obter resultados aproximados mas não há a garantia de que a solução se trata de um máximo global do problema proposto, ou seja, a solução pode não ser precisa. Em contrapartida, a velocidade dessa estratégia é elevada, possibilitando um maior volume de alinhamento em menor tempo.\n",
    "\n",
    "Para solucionar o problema, foi utilizado o algoritmo de Smith Waterman através do preenchimento de uma matriz dinâmica. Cada linha da matriz corresponde a uma letra da sequência A, e cada coluna está relacionada a uma letra da sequência B. Desse modo, quando as letras são iguais, a célula correspondente recebe 2 (match), e se forem diferentes, recebe -1 (mismatch ou gap). Com a matriz preenchida, o alinhamento das sequências é feito a partir da célula com maior valor até chegar uma célula de valor 0, ou o início da matriz.\n",
    "\n",
    "Portanto, ao rodar o problema com entradas de diferentes tamanhos, obtemos os seguintes resultados:"
   ]
  },
  {
   "cell_type": "code",
   "execution_count": 4,
   "id": "0e54e372",
   "metadata": {},
   "outputs": [],
   "source": [
    "tempos_heu=[]"
   ]
  },
  {
   "cell_type": "code",
   "execution_count": 5,
   "id": "d7d11640",
   "metadata": {
    "scrolled": true
   },
   "outputs": [],
   "source": [
    "import numpy as np\n",
    "\n",
    "for i in range(10,400,20):\n",
    "    avg_time=[]\n",
    "    for j in range (0,100):\n",
    "        out, time= roda_com_entrada('./Heuristica/ingenuo', 'Entradas/dna{0}_{1}.seq'.format(i,j))\n",
    "        avg_time.append(time)\n",
    "    tempos_heu.append(np.mean(avg_time))"
   ]
  },
  {
   "cell_type": "code",
   "execution_count": 6,
   "id": "e4816597",
   "metadata": {},
   "outputs": [],
   "source": [
    "heu_en = []\n",
    "for i in entradas:\n",
    "    if i not in heu_en:\n",
    "        heu_en.append(i)"
   ]
  },
  {
   "cell_type": "code",
   "execution_count": 7,
   "id": "b65fc344",
   "metadata": {
    "scrolled": false
   },
   "outputs": [
    {
     "data": {
      "image/png": "[encoded data removed]",
      "text/plain": [
       "<Figure size 432x288 with 1 Axes>"
      ]
     },
     "metadata": {
      "needs_background": "light"
     },
     "output_type": "display_data"
    }
   ],
   "source": [
    "import matplotlib.pyplot as plt\n",
    "\n",
    "plt.scatter(heu_en, tempos_heu)\n",
    "plt.xlabel(\"Tamanho das Entradas(N)\")\n",
    "plt.ylabel(\"Tempo\")\n",
    "plt.title(\"Heurística\")\n",
    "plt.grid()\n",
    "plt.show()"
   ]
  },
  {
   "cell_type": "markdown",
   "id": "558704f0",
   "metadata": {},
   "source": [
    "A partir do gráfico, é importante perceber que o tempo de execução para as entradas propostas é extremamente baixo, até quando N é alto. Mesmo assim, nota-se que existe uma tendência de crescimento no tempo, quando o tamanho das entradas aumenta. \n",
    "\n",
    "O valgrind foi utilizado como técnica de profiling e notou-se que o uso de ***cin*** e ***cout*** são responsáveis pelo maior número de anotações. "
   ]
  },
  {
   "cell_type": "markdown",
   "id": "6c599cea",
   "metadata": {},
   "source": [
    "#### Algoritmo Local de Alinhamento\n",
    "---"
   ]
  },
  {
   "cell_type": "markdown",
   "id": "e7d8fee0",
   "metadata": {},
   "source": [
    "Com o objetivo de observar o comportamento do exploration no problema de alinhamento, fez-se uso da aleatoriedade ao comparar duas sequências. Desse modo, ao invés de comparar todas as letras de cada sequência, o algoritmo compara subsequências de A e B adquiridas de maneira aleátoria. Essa comparação é realizada com 100 subsequências aleatórias e, no fim, retorna-se o par (sub_a, sub_b) que resultou no melhor score de alinhamento.\n",
    "Para garantir o alinhamento dessas subsequências, o score foi calculado a partir da mesma matriz dinâmica utilizada na Heurística.\n",
    "\n",
    "Assim, é possível observar os seguintes resultados:"
   ]
  },
  {
   "cell_type": "code",
   "execution_count": 8,
   "id": "6c911eda",
   "metadata": {},
   "outputs": [],
   "source": [
    "tempos_al=[]"
   ]
  },
  {
   "cell_type": "code",
   "execution_count": 9,
   "id": "991a7f99",
   "metadata": {},
   "outputs": [],
   "source": [
    "for i in range(10,200,20):\n",
    "    avg_time=[]\n",
    "    for j in range (0,100):\n",
    "        out, time= roda_com_entrada('./Aleatorizacao/aleatorio', 'Entradas/dna{0}_{1}.seq'.format(i,j))\n",
    "        avg_time.append(time)\n",
    "    tempos_al.append(np.mean(avg_time))"
   ]
  },
  {
   "cell_type": "code",
   "execution_count": 10,
   "id": "d7ee9029",
   "metadata": {},
   "outputs": [],
   "source": [
    "al_en = []\n",
    "for i in entradas[:1000]:\n",
    "    if i not in al_en:\n",
    "        al_en.append(i)"
   ]
  },
  {
   "cell_type": "code",
   "execution_count": 11,
   "id": "5b05d5d2",
   "metadata": {
    "scrolled": true
   },
   "outputs": [
    {
     "data": {
      "image/png": "[encoded data removed]",
      "text/plain": [
       "<Figure size 432x288 with 1 Axes>"
      ]
     },
     "metadata": {
      "needs_background": "light"
     },
     "output_type": "display_data"
    }
   ],
   "source": [
    "import matplotlib.pyplot as plt\n",
    "\n",
    "plt.scatter(al_en, tempos_al)\n",
    "plt.xlabel(\"Tamanho das Entradas (N)\")\n",
    "plt.ylabel(\"Tempo\")\n",
    "plt.title(\"Aleatorio\")\n",
    "plt.grid()\n",
    "plt.show()"
   ]
  },
  {
   "cell_type": "markdown",
   "id": "3093f21c",
   "metadata": {},
   "source": [
    "Para essa estratégia, devido ao tempo de execução mais alto, apenas 200 entradas foram rodadas. Desse modo, é possível observar que esse método precisa de um maior tempo para obter os scores, quando comparada com a Heurística. Além disso, a tendência também é de aumentar conforme o tamanho das sequências aumenta. \n",
    "\n",
    "Outro ponto a ser observado na busca local, é que como faz-se uso da aleatoriedade, nem sempre o valor encontrado será um máximo global, dado que as subsequências sorteadas podem não ser a combinação que resulta no melhor valor ( como na busca exaustiva). Esse fato é influenciado por dois fatores: o número de sequências geradas (p), e o tamanho das sequências a serem analisadas (k).  Ambas as variáveis foram calculadas de maneira aleatória, com k podendo ter no máximo o tamanho da maior sequência, e p um valor entre 2 e o tamanho da primeira sequência.\n",
    "\n",
    "É possível perceber que é importante existir um balanceamento entre essas duas variáveis, pois se o  k for muito alto, as subsequências geradas já vão ter uma maior extensão, levando em consideração mais letras na comparação, e, por isso, não é necessário gerar tantas sequências. Por outro lado, com um k pequeno, menos letras são levadas em consideração e, por isso, quanto mais subsequências forem geradas, maior a probabilidade de um resultado ótimo.\n",
    "\n",
    "Com N menores, essa estratégia pode resultar em um menor desempenho em relação ao score máximo, mas conforme o tamanho das sequências aumenta, a probabiladade do score ficar mais preciso melhora também.\n"
   ]
  },
  {
   "cell_type": "markdown",
   "id": "0523733c",
   "metadata": {},
   "source": [
    "Ao utilizar o Valgrind como técnica de profilig, pode-se observar que o uso da matriz dinâmica para o cálculo do score foi a parte que mais demandou processamento. Por esse motivo, o cálculo simples do score de alinhamento entre as subsequências aparenta ser mais adequado para essa estratégia."
   ]
  },
  {
   "cell_type": "markdown",
   "id": "dd0d2fe9",
   "metadata": {},
   "source": [
    "```\n",
    "\n",
    "69,032              for (int linha=1; linha <= k; linha++){\n",
    "      .          \n",
    "344,181                  for(int coluna=1; coluna<=k; coluna++){\n",
    "      .                  \n",
    "      .                      int score;\n",
    "      .                      int diagonal;\n",
    "      .                      int delecao;\n",
    "      .                      int insercao;\n",
    "344,181                      score= sa[linha]==sb[coluna]? 2:-1;\n",
    "458,908                      diagonal= H[linha-1][coluna-1]+ score;\n",
    "688,362                      delecao=H[linha-1][coluna]-1;\n",
    "      .                      insercao=H[linha][coluna-1]-1;\n",
    "      .  \n",
    "114,727                      H[linha][coluna]= std::max({0, diagonal, delecao, insercao});\n",
    "      .                  \n",
    "      .                      \n",
    "      .                  }\n",
    "      .              }\n",
    "      .              \n",
    "      .     \n",
    " 42,060              for (int i = 0; i <= k; i++) {\n",
    "299,001                  for (int j = 0; j <= k; j++) {\n",
    "330,243                      if (H[i][j] > total_score) {\n",
    "      .                          total_score = H[i][j];\n",
    "      .                         \n",
    "      .                      }\n",
    "      .                  }\n",
    "      .              }\n",
    "      \n",
    "```"
   ]
  },
  {
   "cell_type": "markdown",
   "id": "f9ec435f",
   "metadata": {},
   "source": [
    "#### Busca Exaustiva\n",
    "---"
   ]
  },
  {
   "cell_type": "markdown",
   "id": "09f44d46",
   "metadata": {},
   "source": [
    "Por fim, a última estratégia utilizada foi a da Busca exaustiva. Esse método realiza todas as combinações de alinhamento possíveis entre as sequências, garantindo assim, um resultado ótimo. Porém, justamente por realizar todas as combinações, necessita-se de um maior tempo de processamento.  Para esse método, duas estratégias diferentes foram adotadas:\n",
    "\n",
    "    1. Calcular o score de alinhamento entre duas subsequências através da matriz dinâmica já usada anteriormente\n",
    "    2. Realizar um truncamento do tamanho da maior sequência pela menor, e calcular um score simples entre essas duas subsequências\n",
    "\n",
    "É possível observar o desempenho de cada uma das estratégias conforme o tamanho das sequências aumenta abaixo:"
   ]
  },
  {
   "cell_type": "code",
   "execution_count": 1,
   "id": "8da5a45a",
   "metadata": {},
   "outputs": [],
   "source": [
    "tempos_ex1=[]"
   ]
  },
  {
   "cell_type": "code",
   "execution_count": 4,
   "id": "f78c20a9",
   "metadata": {},
   "outputs": [
    {
     "ename": "OSError",
     "evalue": "[Errno 8] Exec format error: './Exaustiva/exaustiva'",
     "output_type": "error",
     "traceback": [
      "\u001b[0;31m---------------------------------------------------------------------------\u001b[0m",
      "\u001b[0;31mOSError\u001b[0m                                   Traceback (most recent call last)",
      "\u001b[0;32m<ipython-input-4-a0b630c24bff>\u001b[0m in \u001b[0;36m<module>\u001b[0;34m\u001b[0m\n\u001b[1;32m      2\u001b[0m     \u001b[0mavg_time\u001b[0m\u001b[0;34m=\u001b[0m\u001b[0;34m[\u001b[0m\u001b[0;34m]\u001b[0m\u001b[0;34m\u001b[0m\u001b[0;34m\u001b[0m\u001b[0m\n\u001b[1;32m      3\u001b[0m     \u001b[0;32mfor\u001b[0m \u001b[0mj\u001b[0m \u001b[0;32min\u001b[0m \u001b[0mrange\u001b[0m \u001b[0;34m(\u001b[0m\u001b[0;36m0\u001b[0m\u001b[0;34m,\u001b[0m\u001b[0;36m100\u001b[0m\u001b[0;34m)\u001b[0m\u001b[0;34m:\u001b[0m\u001b[0;34m\u001b[0m\u001b[0;34m\u001b[0m\u001b[0m\n\u001b[0;32m----> 4\u001b[0;31m         \u001b[0mout\u001b[0m\u001b[0;34m,\u001b[0m \u001b[0mtime\u001b[0m\u001b[0;34m=\u001b[0m \u001b[0mroda_com_entrada\u001b[0m\u001b[0;34m(\u001b[0m\u001b[0;34m'./Exaustiva/exaustiva'\u001b[0m\u001b[0;34m,\u001b[0m \u001b[0;34m'Entradas/dna{0}_{1}.seq'\u001b[0m\u001b[0;34m.\u001b[0m\u001b[0mformat\u001b[0m\u001b[0;34m(\u001b[0m\u001b[0mi\u001b[0m\u001b[0;34m,\u001b[0m\u001b[0mj\u001b[0m\u001b[0;34m)\u001b[0m\u001b[0;34m)\u001b[0m\u001b[0;34m\u001b[0m\u001b[0;34m\u001b[0m\u001b[0m\n\u001b[0m\u001b[1;32m      5\u001b[0m         \u001b[0mavg_time\u001b[0m\u001b[0;34m.\u001b[0m\u001b[0mappend\u001b[0m\u001b[0;34m(\u001b[0m\u001b[0mtime\u001b[0m\u001b[0;34m)\u001b[0m\u001b[0;34m\u001b[0m\u001b[0;34m\u001b[0m\u001b[0m\n\u001b[1;32m      6\u001b[0m     \u001b[0mtempos_ex1\u001b[0m\u001b[0;34m.\u001b[0m\u001b[0mappend\u001b[0m\u001b[0;34m(\u001b[0m\u001b[0mnp\u001b[0m\u001b[0;34m.\u001b[0m\u001b[0mmean\u001b[0m\u001b[0;34m(\u001b[0m\u001b[0mavg_time\u001b[0m\u001b[0;34m)\u001b[0m\u001b[0;34m)\u001b[0m\u001b[0;34m\u001b[0m\u001b[0;34m\u001b[0m\u001b[0m\n",
      "\u001b[0;32m<ipython-input-3-1c40e0742b34>\u001b[0m in \u001b[0;36mroda_com_entrada\u001b[0;34m(executavel, arquivo_in)\u001b[0m\n\u001b[1;32m      7\u001b[0m \u001b[0;34m\u001b[0m\u001b[0m\n\u001b[1;32m      8\u001b[0m         \u001b[0mstart\u001b[0m \u001b[0;34m=\u001b[0m \u001b[0mtime\u001b[0m\u001b[0;34m.\u001b[0m\u001b[0mperf_counter\u001b[0m\u001b[0;34m(\u001b[0m\u001b[0;34m)\u001b[0m\u001b[0;34m\u001b[0m\u001b[0;34m\u001b[0m\u001b[0m\n\u001b[0;32m----> 9\u001b[0;31m         \u001b[0mproc\u001b[0m \u001b[0;34m=\u001b[0m \u001b[0msubprocess\u001b[0m\u001b[0;34m.\u001b[0m\u001b[0mrun\u001b[0m\u001b[0;34m(\u001b[0m\u001b[0;34m[\u001b[0m\u001b[0mexecutavel\u001b[0m\u001b[0;34m]\u001b[0m\u001b[0;34m,\u001b[0m \u001b[0minput\u001b[0m\u001b[0;34m=\u001b[0m\u001b[0mf\u001b[0m\u001b[0;34m.\u001b[0m\u001b[0mread\u001b[0m\u001b[0;34m(\u001b[0m\u001b[0;34m)\u001b[0m\u001b[0;34m,\u001b[0m \u001b[0mtext\u001b[0m\u001b[0;34m=\u001b[0m\u001b[0;32mTrue\u001b[0m\u001b[0;34m,\u001b[0m \u001b[0mcapture_output\u001b[0m\u001b[0;34m=\u001b[0m\u001b[0;32mTrue\u001b[0m\u001b[0;34m)\u001b[0m\u001b[0;34m\u001b[0m\u001b[0;34m\u001b[0m\u001b[0m\n\u001b[0m\u001b[1;32m     10\u001b[0m         \u001b[0mend\u001b[0m \u001b[0;34m=\u001b[0m \u001b[0mtime\u001b[0m\u001b[0;34m.\u001b[0m\u001b[0mperf_counter\u001b[0m\u001b[0;34m(\u001b[0m\u001b[0;34m)\u001b[0m\u001b[0;34m\u001b[0m\u001b[0;34m\u001b[0m\u001b[0m\n\u001b[1;32m     11\u001b[0m \u001b[0;34m\u001b[0m\u001b[0m\n",
      "\u001b[0;32m/usr/local/Cellar/python@3.9/3.9.10/Frameworks/Python.framework/Versions/3.9/lib/python3.9/subprocess.py\u001b[0m in \u001b[0;36mrun\u001b[0;34m(input, capture_output, timeout, check, *popenargs, **kwargs)\u001b[0m\n\u001b[1;32m    503\u001b[0m         \u001b[0mkwargs\u001b[0m\u001b[0;34m[\u001b[0m\u001b[0;34m'stderr'\u001b[0m\u001b[0;34m]\u001b[0m \u001b[0;34m=\u001b[0m \u001b[0mPIPE\u001b[0m\u001b[0;34m\u001b[0m\u001b[0;34m\u001b[0m\u001b[0m\n\u001b[1;32m    504\u001b[0m \u001b[0;34m\u001b[0m\u001b[0m\n\u001b[0;32m--> 505\u001b[0;31m     \u001b[0;32mwith\u001b[0m \u001b[0mPopen\u001b[0m\u001b[0;34m(\u001b[0m\u001b[0;34m*\u001b[0m\u001b[0mpopenargs\u001b[0m\u001b[0;34m,\u001b[0m \u001b[0;34m**\u001b[0m\u001b[0mkwargs\u001b[0m\u001b[0;34m)\u001b[0m \u001b[0;32mas\u001b[0m \u001b[0mprocess\u001b[0m\u001b[0;34m:\u001b[0m\u001b[0;34m\u001b[0m\u001b[0;34m\u001b[0m\u001b[0m\n\u001b[0m\u001b[1;32m    506\u001b[0m         \u001b[0;32mtry\u001b[0m\u001b[0;34m:\u001b[0m\u001b[0;34m\u001b[0m\u001b[0;34m\u001b[0m\u001b[0m\n\u001b[1;32m    507\u001b[0m             \u001b[0mstdout\u001b[0m\u001b[0;34m,\u001b[0m \u001b[0mstderr\u001b[0m \u001b[0;34m=\u001b[0m \u001b[0mprocess\u001b[0m\u001b[0;34m.\u001b[0m\u001b[0mcommunicate\u001b[0m\u001b[0;34m(\u001b[0m\u001b[0minput\u001b[0m\u001b[0;34m,\u001b[0m \u001b[0mtimeout\u001b[0m\u001b[0;34m=\u001b[0m\u001b[0mtimeout\u001b[0m\u001b[0;34m)\u001b[0m\u001b[0;34m\u001b[0m\u001b[0;34m\u001b[0m\u001b[0m\n",
      "\u001b[0;32m/usr/local/Cellar/python@3.9/3.9.10/Frameworks/Python.framework/Versions/3.9/lib/python3.9/subprocess.py\u001b[0m in \u001b[0;36m__init__\u001b[0;34m(self, args, bufsize, executable, stdin, stdout, stderr, preexec_fn, close_fds, shell, cwd, env, universal_newlines, startupinfo, creationflags, restore_signals, start_new_session, pass_fds, user, group, extra_groups, encoding, errors, text, umask)\u001b[0m\n\u001b[1;32m    949\u001b[0m                             encoding=encoding, errors=errors)\n\u001b[1;32m    950\u001b[0m \u001b[0;34m\u001b[0m\u001b[0m\n\u001b[0;32m--> 951\u001b[0;31m             self._execute_child(args, executable, preexec_fn, close_fds,\n\u001b[0m\u001b[1;32m    952\u001b[0m                                 \u001b[0mpass_fds\u001b[0m\u001b[0;34m,\u001b[0m \u001b[0mcwd\u001b[0m\u001b[0;34m,\u001b[0m \u001b[0menv\u001b[0m\u001b[0;34m,\u001b[0m\u001b[0;34m\u001b[0m\u001b[0;34m\u001b[0m\u001b[0m\n\u001b[1;32m    953\u001b[0m                                 \u001b[0mstartupinfo\u001b[0m\u001b[0;34m,\u001b[0m \u001b[0mcreationflags\u001b[0m\u001b[0;34m,\u001b[0m \u001b[0mshell\u001b[0m\u001b[0;34m,\u001b[0m\u001b[0;34m\u001b[0m\u001b[0;34m\u001b[0m\u001b[0m\n",
      "\u001b[0;32m/usr/local/Cellar/python@3.9/3.9.10/Frameworks/Python.framework/Versions/3.9/lib/python3.9/subprocess.py\u001b[0m in \u001b[0;36m_execute_child\u001b[0;34m(self, args, executable, preexec_fn, close_fds, pass_fds, cwd, env, startupinfo, creationflags, shell, p2cread, p2cwrite, c2pread, c2pwrite, errread, errwrite, restore_signals, gid, gids, uid, umask, start_new_session)\u001b[0m\n\u001b[1;32m   1819\u001b[0m                     \u001b[0;32mif\u001b[0m \u001b[0merrno_num\u001b[0m \u001b[0;34m!=\u001b[0m \u001b[0;36m0\u001b[0m\u001b[0;34m:\u001b[0m\u001b[0;34m\u001b[0m\u001b[0;34m\u001b[0m\u001b[0m\n\u001b[1;32m   1820\u001b[0m                         \u001b[0merr_msg\u001b[0m \u001b[0;34m=\u001b[0m \u001b[0mos\u001b[0m\u001b[0;34m.\u001b[0m\u001b[0mstrerror\u001b[0m\u001b[0;34m(\u001b[0m\u001b[0merrno_num\u001b[0m\u001b[0;34m)\u001b[0m\u001b[0;34m\u001b[0m\u001b[0;34m\u001b[0m\u001b[0m\n\u001b[0;32m-> 1821\u001b[0;31m                     \u001b[0;32mraise\u001b[0m \u001b[0mchild_exception_type\u001b[0m\u001b[0;34m(\u001b[0m\u001b[0merrno_num\u001b[0m\u001b[0;34m,\u001b[0m \u001b[0merr_msg\u001b[0m\u001b[0;34m,\u001b[0m \u001b[0merr_filename\u001b[0m\u001b[0;34m)\u001b[0m\u001b[0;34m\u001b[0m\u001b[0;34m\u001b[0m\u001b[0m\n\u001b[0m\u001b[1;32m   1822\u001b[0m                 \u001b[0;32mraise\u001b[0m \u001b[0mchild_exception_type\u001b[0m\u001b[0;34m(\u001b[0m\u001b[0merr_msg\u001b[0m\u001b[0;34m)\u001b[0m\u001b[0;34m\u001b[0m\u001b[0;34m\u001b[0m\u001b[0m\n\u001b[1;32m   1823\u001b[0m \u001b[0;34m\u001b[0m\u001b[0m\n",
      "\u001b[0;31mOSError\u001b[0m: [Errno 8] Exec format error: './Exaustiva/exaustiva'"
     ]
    }
   ],
   "source": [
    "for i in range(10,100,20):\n",
    "    avg_time=[]\n",
    "    for j in range (0,100):\n",
    "        out, time= roda_com_entrada('./Exaustiva/exaustiva', 'Entradas/dna{0}_{1}.seq'.format(i,j))\n",
    "        avg_time.append(time)\n",
    "    tempos_ex1.append(np.mean(avg_time))"
   ]
  },
  {
   "cell_type": "code",
   "execution_count": 14,
   "id": "9eeff179",
   "metadata": {},
   "outputs": [],
   "source": [
    "ex1_en = []\n",
    "for i in entradas[:500]:\n",
    "    if i not in ex1_en:\n",
    "        ex1_en.append(i)"
   ]
  },
  {
   "cell_type": "code",
   "execution_count": 15,
   "id": "6e156dcc",
   "metadata": {},
   "outputs": [
    {
     "data": {
      "image/png": "[encoded data removed]",
      "text/plain": [
       "<Figure size 432x288 with 1 Axes>"
      ]
     },
     "metadata": {
      "needs_background": "light"
     },
     "output_type": "display_data"
    }
   ],
   "source": [
    "import matplotlib.pyplot as plt\n",
    "\n",
    "plt.scatter(ex1_en, tempos_ex1)\n",
    "plt.xlabel(\"Tamanho das Entradas(N)\")\n",
    "plt.ylabel(\"Tempo\")\n",
    "plt.title(\"Exaustiva versão 1\")\n",
    "plt.grid()\n",
    "plt.show()"
   ]
  },
  {
   "cell_type": "markdown",
   "id": "f19b16f3",
   "metadata": {},
   "source": [
    "A partir do gráfico acima, pode-se notar que o tempo de execução dessa estratégia é consideravelmente mais elevado, embora garanta um máximo local.\n",
    "\n",
    "Ao rodar o Valgrind, a parte com mais anotações foi a responsável por calcular o score. Ainda assim, ela possui um desempenho melhor do que a matriz dinâmica (técnica da exaustiva 2). \n",
    "\n",
    "Ao gerar duas subsequências, essa técnica visa deixá-las com o mesmo tamanho, realizando um truncamento da maior pela menor. Isso significa que algumas combinações de caracteres são perdidos durante o processo. Por esse motivo, os scores obtidos não foram os máximos globais (scores mostrados mais abaixo no relatório).\n",
    "\n"
   ]
  },
  {
   "cell_type": "markdown",
   "id": "04719525",
   "metadata": {},
   "source": [
    "```\n",
    "57,101              for(int i=0; i<int(sa.size()); i++){\n",
    "55,594                  score+= (sa[i] == sb[i] ? 2:-1);\n",
    "     .             \n",
    "     .              }\n",
    "```"
   ]
  },
  {
   "cell_type": "code",
   "execution_count": 22,
   "id": "107abbbf",
   "metadata": {},
   "outputs": [],
   "source": [
    "tempos_ex2=[]\n",
    "en_ex2=[]"
   ]
  },
  {
   "cell_type": "code",
   "execution_count": 23,
   "id": "d0783bd0",
   "metadata": {},
   "outputs": [],
   "source": [
    "for i in range(2, 40,2):\n",
    "    \n",
    "    for j in range(0,100):\n",
    "\n",
    "        n = i # tamanho da primeira sequência\n",
    "        m =  random.randint(2, i)# tamanho da segunda sequência\n",
    "        file = 'Entradas/ex2/dna{0}_{1}.seq'.format(i,j)  # nome do arquivo a ser gerado\n",
    "        en_ex2.append(n)\n",
    "        f = open(file, 'w')\n",
    "        seq = [str(n)+'\\n',\n",
    "               str(m)+'\\n',\n",
    "               ''.join(random.choices(['A', 'T', 'C', 'G'], k=n))+'\\n',\n",
    "               ''.join(random.choices(['A', 'T', 'C', 'G'], k=m))]\n",
    "        f.writelines(seq)\n",
    "        f.close()\n",
    "#     print(''.join(seq))\n"
   ]
  },
  {
   "cell_type": "code",
   "execution_count": 24,
   "id": "937e1c85",
   "metadata": {
    "scrolled": true
   },
   "outputs": [],
   "source": [
    "for i in range(2,40,2):\n",
    "    avg_time=[]\n",
    "    for j in range (0,100):\n",
    "        out, time= roda_com_entrada('./Exaustiva/exaustiva_dois', 'Entradas/ex2/dna{0}_{1}.seq'.format(i,j))\n",
    "        avg_time.append(time)\n",
    "    tempos_ex2.append(np.mean(avg_time))"
   ]
  },
  {
   "cell_type": "code",
   "execution_count": 25,
   "id": "0fb0f287",
   "metadata": {},
   "outputs": [],
   "source": [
    "ex2 = []\n",
    "for i in en_ex2:\n",
    "    if i not in ex2:\n",
    "        ex2.append(i)"
   ]
  },
  {
   "cell_type": "code",
   "execution_count": 26,
   "id": "0679d51e",
   "metadata": {},
   "outputs": [
    {
     "data": {
      "image/png": "[encoded data removed]",
      "text/plain": [
       "<Figure size 432x288 with 1 Axes>"
      ]
     },
     "metadata": {
      "needs_background": "light"
     },
     "output_type": "display_data"
    }
   ],
   "source": [
    "import matplotlib.pyplot as plt\n",
    "\n",
    "plt.scatter(ex2, tempos_ex2)\n",
    "plt.xlabel(\"Tamanho das Entradas(N)\")\n",
    "plt.ylabel(\"Tempo\")\n",
    "plt.title(\"Exaustiva versão 2\")\n",
    "plt.grid()\n",
    "plt.show()"
   ]
  },
  {
   "cell_type": "markdown",
   "id": "80bf092b",
   "metadata": {},
   "source": [
    "Ao rodar o Valgrind, percebe-se que o maior consumo computacional está relacionado com o preenchimento da matriz dinâmica:"
   ]
  },
  {
   "cell_type": "markdown",
   "id": "856fdfca",
   "metadata": {},
   "source": [
    "```\n",
    "245,025                      score=sa[linha]==sb[coluna]?2:-1;\n",
    " 96,800                      diagonal= H[linha-1][coluna-1]+ score;\n",
    " 96,800                      delecao=H[linha-1][coluna]-1;\n",
    "145,200                      insercao=H[linha][coluna-1]-1;\n",
    "      .  \n",
    " 48,400                      H[linha][coluna]= std::max({0, diagonal, delecao, insercao});\n",
    " 48,400                      if(H[linha][coluna]==diagonal){\n",
    "      .                  \n",
    " 39,516                          salto[linha][coluna].salto=0;\n",
    "      .  \n",
    "      .                      }\n",
    " 57,284                      else if(H[linha][coluna]==delecao){\n",
    "      .                          \n",
    " 22,284                          salto[linha][coluna].salto= 1;\n",
    "      .  \n",
    "      .                      }\n",
    " 42,428                      else if(H[linha][coluna]==insercao){\n",
    "      .                          \n",
    " 13,774                          salto[linha][coluna].salto= 2;\n",
    "      .  \n",
    "      .                      }\n",
    "      .                  }\n",
    "      .              }\n",
    "      .  \n",
    "      .          \n",
    " 45,375              for (int i = 0; i < int(sa.size()); i++) {\n",
    "408,371                  for (int j = 0; j <= int(sb.size()); j++) {\n",
    "181,500                      if (H[i][j] > maxScore) {\n",
    "      .                          best_a=\"\";\n",
    "      .                          best_b=\"\";\n",
    "     16                          maxScore = H[i][j];\n",
    "      .                          int l=i;\n",
    "      .                          int c=j;\n",
    "      .      \n",
    "```\n",
    "\n"
   ]
  },
  {
   "cell_type": "markdown",
   "id": "f30ff4e4",
   "metadata": {},
   "source": [
    "Essa outra estratégia também garante máximos globais, porém consumiu até mais tempo que a busca exaustiva com o trucamento, devido a forma em que o score foi calculado. Enquanto a primeira busca exaustiva calcula o score de maneira simples, guardando-o em uma variável, essa estratégia faz o uso de uma matriz dinâmica, com muitos acessos a memória, necessitando assim de mais capacidade computacional, e, portanto, maior tempo de execução. Apesar do resultado ótimo, é importante refletir até que ponto vale a pena fazer o uso desse mecanismo. Por isso, a partir das análises a seguir, será possível perceber quais estratégias se mostram mais vantajosas em relação as outras."
   ]
  },
  {
   "cell_type": "markdown",
   "id": "9e25c79b",
   "metadata": {},
   "source": [
    "#### Comparação entre Estratégias\n",
    "---"
   ]
  },
  {
   "cell_type": "code",
   "execution_count": 29,
   "id": "4045b958",
   "metadata": {},
   "outputs": [
    {
     "data": {
      "image/png": "[encoded data removed]",
      "text/plain": [
       "<Figure size 432x288 with 1 Axes>"
      ]
     },
     "metadata": {
      "needs_background": "light"
     },
     "output_type": "display_data"
    }
   ],
   "source": [
    "plt.plot(heu_en, tempos_heu, label=\"Heurística\")\n",
    "plt.plot(al_en, tempos_al, label=\"Aleatório\")\n",
    "plt.plot(ex1_en, tempos_ex1, label=\"Exaustiva com S.W\")\n",
    "plt.plot(ex2, tempos_ex2, label=\"Exaustiva com Truncamento \")\n",
    "plt.xlabel(\"Tamanho das Entradas(N)\")\n",
    "plt.ylabel(\"Tempo\")\n",
    "plt.legend()\n",
    "plt.show()\n"
   ]
  },
  {
   "cell_type": "markdown",
   "id": "25e13efd",
   "metadata": {},
   "source": [
    "Como dito anteriormente, ao considerar apenas o tempo de execução do alinhamento, a Heurística se destaca frente as outras estratégias, enquanto as buscas exaustivas apresentam um crescimento exponencial do tempo em relação ao  tamanho das entradas. Isso significa que mesmo se houvesse uma paralelização das buscas exaustivas, seu desempenho a longo prazo ainda seria menor que a Heurística, e possívelmente que a aleatória também."
   ]
  },
  {
   "cell_type": "markdown",
   "id": "b753ac2f",
   "metadata": {},
   "source": [
    "Porém, outro fator essencial para analisar o desempenho dos métodos é o score máximo de alinhamento obtido:"
   ]
  },
  {
   "cell_type": "code",
   "execution_count": 30,
   "id": "44d715ed",
   "metadata": {},
   "outputs": [],
   "source": [
    "out_heu, time_heu= roda_com_entrada('./Heuristica/ingenuo', 'Entradas/dna{0}_{1}.seq'.format(90,0))\n",
    "out_al, time_al= roda_com_entrada('./Aleatorizacao/aleatorio', 'Entradas/dna{0}_{1}.seq'.format(90,0))\n",
    "out_ex1, time_ex1= roda_com_entrada('./Exaustiva/exaustiva', 'Entradas/dna{0}_{1}.seq'.format(90,0))\n",
    "out_ex2, time_ex2= roda_com_entrada('./Exaustiva/exaustiva_dois', 'Entradas/dna{0}_{1}.seq'.format(90,0))\n",
    "\n"
   ]
  },
  {
   "cell_type": "code",
   "execution_count": 31,
   "id": "19ebcfe5",
   "metadata": {},
   "outputs": [],
   "source": [
    "score_al= [int(i) for i in out_al.split() if i.isdigit()]\n"
   ]
  },
  {
   "cell_type": "code",
   "execution_count": 32,
   "id": "47fe5d42",
   "metadata": {},
   "outputs": [],
   "source": [
    "import re\n",
    "\n",
    "score_heu=int(re.findall(r'\\d+', out_heu)[0])\n",
    "score_ex1=int(re.findall(r'\\d+', out_ex1)[0])\n",
    "score_ex2=int(re.findall(r'\\d+', out_ex2)[0])\n",
    "score_al=max(score_al)\n",
    "\n"
   ]
  },
  {
   "cell_type": "code",
   "execution_count": 33,
   "id": "b2b13307",
   "metadata": {},
   "outputs": [
    {
     "name": "stdout",
     "output_type": "stream",
     "text": [
      "+---------------------------------+--------------+----------------------+----------------------+\n",
      "|            Estratégia           | Score Máximo | Tamanho da Sequência |  Tempo de execução   |\n",
      "+---------------------------------+--------------+----------------------+----------------------+\n",
      "|          Heurística S.W         |      53      |          90          | 0.011076643997512292 |\n",
      "|         Busca Aleatória         |      53      |          90          | 0.05840627499856055  |\n",
      "| Busca Exaustiva por Truncamento |      16      |          90          |  0.9468512489984278  |\n",
      "|     Busca Exaustiva por S.W     |      53      |          90          |  157.04119990800245  |\n",
      "+---------------------------------+--------------+----------------------+----------------------+\n"
     ]
    }
   ],
   "source": [
    "from prettytable import PrettyTable\n",
    " \n",
    "# Specify the Column Names while initializing the Table\n",
    "myTable = PrettyTable([\"Estratégia\", \"Score Máximo\", \"Tamanho da Sequência\", \"Tempo de execução\"])\n",
    " \n",
    "# Add rows\n",
    "myTable.add_row([\"Heurística S.W\", score_heu, 90, time_heu ])\n",
    "myTable.add_row([\"Busca Aleatória\", score_al, 90, time_al])\n",
    "myTable.add_row([\"Busca Exaustiva por Truncamento\", score_ex1, 90, time_ex1])\n",
    "myTable.add_row([\"Busca Exaustiva por S.W\", score_ex2, 90, time_ex2])\n",
    "\n",
    "print(myTable)"
   ]
  },
  {
   "cell_type": "markdown",
   "id": "b538c201",
   "metadata": {},
   "source": [
    "A análise foi feita com uma entrada de tamanho 90. Com isso, o Score obtido com a busca local e Heurística foi igual o score obtido na Busca Exaustiva por S.W, ou seja, foram máximos globais. Embora não exista a garantia que isso sempre irá acontecer, os resultados obtidos são próximos o suficiente para serem utilizados com confiança. \n",
    "\n",
    "Ainda, com esse N, é possível também observar a discrepância entre os tempos de execuções, indicando que para as aplicações reais do problema, em que as sequências possuem tamanho extremamente alto, o tempo de processamenro é inviável, sendo necessário escolher outras opções.\n",
    "\n",
    "Por fim, como dito anteriormente, era de se esperar que a Busca exaustiva por truncamento retornasse também um máximo global. Porém, provavelmente a técnica utilizada, em que  os últimos caracteres da sequência maior são descartados, resultou em perdas de combinações importantes, diminuindo assim o score."
   ]
  },
  {
   "cell_type": "markdown",
   "id": "bebc541f",
   "metadata": {},
   "source": [
    "---"
   ]
  }
 ],
 "metadata": {
  "kernelspec": {
   "display_name": "Python 3",
   "language": "python",
   "name": "python3"
  },
  "language_info": {
   "codemirror_mode": {
    "name": "ipython",
    "version": 3
   },
   "file_extension": ".py",
   "mimetype": "text/x-python",
   "name": "python",
   "nbconvert_exporter": "python",
   "pygments_lexer": "ipython3",
   "version": "3.9.10"
  }
 },
 "nbformat": 4,
 "nbformat_minor": 5
}
