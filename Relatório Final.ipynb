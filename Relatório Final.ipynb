{
 "cells": [
  {
   "cell_type": "markdown",
   "id": "27e35f0a",
   "metadata": {},
   "source": [
    "### Paralelismo do Alinhamento de Sequências de DNA\n",
    "\n",
    "###### Beatriz Rianho Bernardino\n",
    "---"
   ]
  },
  {
   "cell_type": "markdown",
   "id": "f84e8db9",
   "metadata": {},
   "source": [
    "Dentro da bioInformática, o alinhamento de sequências de DNA possui extrema importância para a identificação de padrões e nível de indentidade entre nucleotídeos ou proteínas. Esse mecanismo auxilia, por exemplo, na detecção de mutações de vírus, identificação de genomas desconhecidos e no mapeamento de sequências expressas dentro de um genoma.\n",
    "\n",
    "Para que tal alinhamento seja possível, existem diferentes estratégias computacionais que podem ser utilizadas. Como as sequências de DNA têm um tamanho elevado, é necessário levar em consideração o uso de memória e processamento que cada algoritmo necessita, realizando um trade-off entre a exatidão do alinhamento e o tempo de processamento, como demonstrado no relatório anterior.\n",
    "\n",
    "\n",
    "A busca Exaustiva é uma das possibilidades de algoritmo para alinhamento. Porém, enquanto ela garante um resultado que é um máximo global, o tempo de processamento dessa técnica é extremamento alto, por realizar a combinação de todas as subsequências existentes. Com o intuito de melhorar o desempenho dessa técnica,  o presente relatório conta com duas técnicas de paralilzação da busca exaustiva, visando a comparação do tempo de processamento entre cada uma delas.\n",
    "\n",
    "\n",
    "\n"
   ]
  },
  {
   "cell_type": "markdown",
   "id": "430958c8",
   "metadata": {},
   "source": [
    "#### Entradas\n",
    "---"
   ]
  },
  {
   "cell_type": "markdown",
   "id": "274ea7fb",
   "metadata": {},
   "source": [
    "O código abaixo é responsável por gerar arquivos com sequências aleatórias de tamanhos diferentes que serão utilizadas para as análises."
   ]
  },
  {
   "cell_type": "code",
   "execution_count": 11,
   "id": "979700f5",
   "metadata": {},
   "outputs": [],
   "source": [
    "entradas=[]\n"
   ]
  },
  {
   "cell_type": "code",
   "execution_count": 12,
   "id": "af469ff4",
   "metadata": {},
   "outputs": [],
   "source": [
    "import random\n",
    "import numpy as np\n",
    "\n",
    "for i in range(10, 50,2):\n",
    "    \n",
    "    for j in range(0,100):\n",
    "\n",
    "        n = i # tamanho da primeira sequência\n",
    "        m =  random.randint(10, i)# tamanho da segunda sequência\n",
    "        file = 'Entradas/exaustiva/dna{0}_{1}.seq'.format(i,j)  # nome do arquivo a ser gerado\n",
    "        entradas.append(n)\n",
    "        f = open(file, 'w')\n",
    "        seq = [str(n)+'\\n',\n",
    "               str(m)+'\\n',\n",
    "               ''.join(random.choices(['A', 'T', 'C', 'G'], k=n))+'\\n',\n",
    "               ''.join(random.choices(['A', 'T', 'C', 'G'], k=m))]\n",
    "        f.writelines(seq)\n",
    "        f.close()"
   ]
  },
  {
   "cell_type": "markdown",
   "id": "d68b8813",
   "metadata": {},
   "source": [
    "#### Função para rodar  cada estratégia com as entradas\n",
    "---"
   ]
  },
  {
   "cell_type": "code",
   "execution_count": 13,
   "id": "58046246",
   "metadata": {},
   "outputs": [],
   "source": [
    "import subprocess\n",
    "\n",
    "def roda_com_entrada(executavel, arquivo_in):\n",
    "    import time\n",
    "\n",
    "    with open('{0}'.format(arquivo_in)) as f:\n",
    "\n",
    "        start = time.perf_counter()\n",
    "        proc = subprocess.run([executavel], input=f.read(), text=True, capture_output=True)\n",
    "        end = time.perf_counter()\n",
    "\n",
    "\n",
    "    return (proc.stdout, end - start)"
   ]
  },
  {
   "cell_type": "markdown",
   "id": "ee90cc06",
   "metadata": {},
   "source": [
    "#### A Busca Exaustiva Tradicional\n",
    "---\n"
   ]
  },
  {
   "cell_type": "markdown",
   "id": "ed26a753",
   "metadata": {},
   "source": [
    "A busca exaustiva é um método responsável por realizar todas as combinações de alinhamento possíveis entre as sequências, garantindo assim, um resultado ótimo. Porém, justamente por realizar todas as combinações, necessita-se de um maior tempo de processamento. Para calcular o score de alinhamento de cada combinação, fez-se uso da heurística de alinhamento de Smith-Waterman. Tal heurística conta com uma matriz de alinhamento  preenchida de maneira dinâmica, através de atribuições de valores para a comparação de cada letra das subsequências analisadas.\n",
    "\n",
    "O algoritmo utilizado não possui nenhum tipo de paralelismo e pode-se observar seu desempenho conforme o tamanho das entradas aumenta abaixo:"
   ]
  },
  {
   "cell_type": "code",
   "execution_count": 14,
   "id": "95f659d1",
   "metadata": {},
   "outputs": [],
   "source": [
    "tempos_ex1=[]"
   ]
  },
  {
   "cell_type": "code",
   "execution_count": 16,
   "id": "a0f5a591",
   "metadata": {},
   "outputs": [],
   "source": [
    "for i in range(10,50,2):\n",
    "    avg_time=[]\n",
    "    for j in range (0,100):\n",
    "        out, time= roda_com_entrada('./Exaustiva/exaustiva_sw', 'Entradas/exaustiva/dna{0}_{1}.seq'.format(i,j))\n",
    "        \n",
    "        avg_time.append(time)\n",
    "    tempos_ex1.append(np.mean(avg_time))"
   ]
  },
  {
   "cell_type": "code",
   "execution_count": 54,
   "id": "34fb8c9c",
   "metadata": {},
   "outputs": [],
   "source": [
    "ex1_en = []\n",
    "for i in entradas:\n",
    "    if i not in ex1_en:\n",
    "        ex1_en.append(i)"
   ]
  },
  {
   "cell_type": "code",
   "execution_count": 56,
   "id": "0c764328",
   "metadata": {},
   "outputs": [
    {
     "data": {
      "image/png": "[encoded data removed]",
      "text/plain": [
       "<Figure size 432x288 with 1 Axes>"
      ]
     },
     "metadata": {
      "needs_background": "light"
     },
     "output_type": "display_data"
    }
   ],
   "source": [
    "import matplotlib.pyplot as plt\n",
    "\n",
    "plt.scatter(ex1_en, tempos_ex1)\n",
    "plt.xlabel(\"Tamanho das Entradas(N)\")\n",
    "plt.ylabel(\"Tempo\")\n",
    "plt.title(\"Exaustiva versão 1\")\n",
    "plt.grid()\n",
    "plt.show()"
   ]
  },
  {
   "cell_type": "markdown",
   "id": "b432fef5",
   "metadata": {},
   "source": [
    "Como dito anteriormente, é possível observar que conforme o tamanho das sequências aumenta, o tempo de processamento do alinhamento também aumenta de maneira expressiva, sendo possível rodar apenas entradas com tamanhos menores ou iguais a 45 letras. Outro fator que contribui para tal valor máximo é que para cada um dos tamanhos, 100 entradas diferentes foram rodadas para adquirir uma média realista do tempo de processamento."
   ]
  },
  {
   "cell_type": "markdown",
   "id": "b8c71285",
   "metadata": {},
   "source": [
    "#### A Busca Exaustiva com OpenMP\n",
    "---\n"
   ]
  },
  {
   "cell_type": "markdown",
   "id": "2139b763",
   "metadata": {},
   "source": [
    "Para tentar melhorar o desempenho da busca exaustiva, a primeira tentativa foi utilizar o OpenMP para parallizar o código, fazendo com que cada combinação seja calculada simultaneamente com as outras, através de múltiplos processadores. Essa estratégia necessitou da utilizaçao de múltiplas threads para o cálculo do score de cada combinação e, posteriormente, foi adquirido o maior score dentre todas as combinações.\n",
    "\n",
    "O desempenho da paralelização pode ser observado abaixo: \n",
    "\n",
    "\n"
   ]
  },
  {
   "cell_type": "code",
   "execution_count": 36,
   "id": "ecf7d8d4",
   "metadata": {},
   "outputs": [],
   "source": [
    "tempos_ex_omp=[]"
   ]
  },
  {
   "cell_type": "code",
   "execution_count": 37,
   "id": "6ac21aaa",
   "metadata": {},
   "outputs": [],
   "source": [
    "for i in range(10,50,2):\n",
    "    avg_time=[]\n",
    "    for j in range (0,100):\n",
    "        out, time= roda_com_entrada('./Exaustiva_openMP/exaustiva_paralela', 'Entradas/exaustiva/dna{0}_{1}.seq'.format(i,j))\n",
    "        avg_time.append(time)\n",
    "    tempos_ex_omp.append(np.mean(avg_time))"
   ]
  },
  {
   "cell_type": "code",
   "execution_count": 51,
   "id": "30d1ca0a",
   "metadata": {},
   "outputs": [],
   "source": [
    "ex_omp_en = []\n",
    "for i in entradas:\n",
    "    if i not in ex_omp_en:\n",
    "        ex_omp_en.append(i)"
   ]
  },
  {
   "cell_type": "code",
   "execution_count": 53,
   "id": "cc77415f",
   "metadata": {},
   "outputs": [
    {
     "data": {
      "image/png": "[encoded data removed]",
      "text/plain": [
       "<Figure size 432x288 with 1 Axes>"
      ]
     },
     "metadata": {
      "needs_background": "light"
     },
     "output_type": "display_data"
    }
   ],
   "source": [
    "import matplotlib.pyplot as plt\n",
    "\n",
    "plt.scatter(ex_omp_en, tempos_ex_omp)\n",
    "plt.xlabel(\"Tamanho das Entradas(N)\")\n",
    "plt.ylabel(\"Tempo\")\n",
    "plt.title(\"Exaustiva OMP\")\n",
    "plt.grid()\n",
    "plt.show()"
   ]
  },
  {
   "cell_type": "markdown",
   "id": "c3161822",
   "metadata": {},
   "source": [
    "Ao contrário do que se esperava, a utilização do paralelismo acabou deixando sua perfomance pior. Isso ocorreu pois apesar de dividir o cálculo das combinações em threads, cada uma delas precisava ter exclusividade na hora de calcular o score com a matriz dinâmica, ou os valores não seriam confiáveis. Por isso, a execução do programa acaba adquirindo um caráter sequencial também, e até pior que o código original."
   ]
  },
  {
   "cell_type": "markdown",
   "id": "ef8b4935",
   "metadata": {},
   "source": [
    "#### A Busca Exaustiva com GPU\n",
    "---\n"
   ]
  },
  {
   "cell_type": "markdown",
   "id": "d8a7f96b",
   "metadata": {},
   "source": [
    "Outro método de paralelismo aplicado foi o uso da GPU para calcular grandes quantidades de combinações de maneira simultânea, otimizando o algoritmo exaustivo. Para isso, utilizou-se a biblioteca Thrust, junto com o OpenMP. Seu desempenho pode ser obeservado abaixo: "
   ]
  },
  {
   "cell_type": "markdown",
   "id": "43b2c2d6",
   "metadata": {},
   "source": [
    "*Para rodar esse arquivo, foi necessário rodar as células comentadas com  o google colab e os valores adquiridos foram passados para as listas**"
   ]
  },
  {
   "cell_type": "code",
   "execution_count": 87,
   "id": "a443dbfc",
   "metadata": {},
   "outputs": [],
   "source": [
    "tempos_ex_gpu=[0.9959394311001233,\n",
    " 1.6046554642001865,\n",
    " 2.5016621556998873,\n",
    " 4.365136233400335,\n",
    " 5.683432581599845,\n",
    " 7.923057561199675,\n",
    " 13.288470274300561,\n",
    " 17.82763756350032,\n",
    " 26.917057605099764,\n",
    " 27.900513365699954]\n",
    "\n",
    "\n",
    "ex_gpu_en=[10,\n",
    " 12,\n",
    " 14,\n",
    " 16,\n",
    " 18,\n",
    " 20,\n",
    " 22,\n",
    " 24,\n",
    " 26,\n",
    " 28]"
   ]
  },
  {
   "cell_type": "code",
   "execution_count": 78,
   "id": "8e0106cd",
   "metadata": {},
   "outputs": [],
   "source": [
    "# for i in range(10,30,2):\n",
    "#     avg_time=[]\n",
    "#     for j in range (0,10):\n",
    "#         out, time= roda_com_entrada('./Exaustiva_GPU/exaustiva_final', 'Entradas/exaustiva/dna{0}_{1}.seq'.format(i,j))\n",
    "#         avg_time.append(time)\n",
    "#     tempos_ex_gpu.append(np.mean(avg_time))"
   ]
  },
  {
   "cell_type": "code",
   "execution_count": 93,
   "id": "4d244b98",
   "metadata": {},
   "outputs": [],
   "source": [
    "# ex_gpu_en = []\n",
    "# for i in entradas:\n",
    "#     if i not in ex_gpu_en:\n",
    "#         ex_gpu_en.append(i)"
   ]
  },
  {
   "cell_type": "code",
   "execution_count": 88,
   "id": "5f9db988",
   "metadata": {},
   "outputs": [
    {
     "data": {
      "image/png": "[encoded data removed]",
      "text/plain": [
       "<Figure size 432x288 with 1 Axes>"
      ]
     },
     "metadata": {
      "needs_background": "light"
     },
     "output_type": "display_data"
    }
   ],
   "source": [
    "import matplotlib.pyplot as plt\n",
    "\n",
    "plt.scatter(ex_gpu_en, tempos_ex_gpu)\n",
    "plt.xlabel(\"Tamanho das Entradas(N)\")\n",
    "plt.ylabel(\"Tempo\")\n",
    "plt.title(\"Exaustiva GPU\")\n",
    "plt.grid()\n",
    "plt.show()"
   ]
  },
  {
   "cell_type": "markdown",
   "id": "dd092c63",
   "metadata": {},
   "source": [
    "Diferente do esperado, a GPU obteve um resultado inferior às estratégias anteriores, aguentando rodar entradas com o tamanho máximo de 30 ao invés de 50, e com  um tempo expressivamente mais alto. "
   ]
  },
  {
   "cell_type": "markdown",
   "id": "cc3e1fcc",
   "metadata": {},
   "source": [
    "#### Comparando as estratégias\n",
    "---"
   ]
  },
  {
   "cell_type": "code",
   "execution_count": 91,
   "id": "808a3791",
   "metadata": {},
   "outputs": [
    {
     "data": {
      "image/png": "[encoded data removed]",
      "text/plain": [
       "<Figure size 432x288 with 1 Axes>"
      ]
     },
     "metadata": {
      "needs_background": "light"
     },
     "output_type": "display_data"
    }
   ],
   "source": [
    "plt.plot(ex1_en[:10], tempos_ex1[:10], label=\"Exaustiva original\")\n",
    "plt.plot(ex_omp_en[:10], tempos_ex_omp[:10], label=\"Exaustiva OpenMP\")\n",
    "plt.plot(ex_gpu_en, tempos_ex_gpu, label=\"Exaustiva com GPU\")\n",
    "plt.title(\"Todas Estratégias\")\n",
    "plt.xlabel(\"Tamanho das Entradas(N)\")\n",
    "plt.ylabel(\"Tempo\")\n",
    "plt.legend()\n",
    "plt.show()"
   ]
  },
  {
   "cell_type": "code",
   "execution_count": 92,
   "id": "2b1b23ca",
   "metadata": {},
   "outputs": [
    {
     "data": {
      "image/png": "[encoded data removed]",
      "text/plain": [
       "<Figure size 432x288 with 1 Axes>"
      ]
     },
     "metadata": {
      "needs_background": "light"
     },
     "output_type": "display_data"
    }
   ],
   "source": [
    "plt.plot(ex1_en[:10], tempos_ex1[:10], label=\"Exaustiva original\")\n",
    "plt.plot(ex_omp_en[:10], tempos_ex_omp[:10], label=\"Exaustiva OpenMP\")\n",
    "plt.xlabel(\"Tamanho das Entradas(N)\")\n",
    "plt.title('Sem a GPU')\n",
    "plt.ylabel(\"Tempo\")\n",
    "plt.legend()\n",
    "plt.show()"
   ]
  },
  {
   "cell_type": "markdown",
   "id": "88678b09",
   "metadata": {},
   "source": [
    "Como é possível observar pelos gráficos acima, surpreendentemente a busca exaustiva sem paralelismo foi a que obteve o melhor desempenho. Tal fato pode ser explicado pelo modo em que o score é calculado. Por fazer uso de uma matriz dinâmica, a paralelização da busca exaustiva possui uma alta complexidade dado que na estratégia com  a CPU cada thread precisa utilizar a matriz de maneira exclusiva, e não compartilhada, deixando a perfomance do código sequencial. Por outro lado, o método que utiliza a GPU não foi eficaz pois a vazão de dados não foi grande o suficiente para que a GPU se destacasse. Isso ocorreu pois inicialmente desejava-se  utilizar apenas uma transformação do thrust que carregasse todas as combinações possíveis de substrings para a GPU, permitindo assim que os scores fossem calculados simultaneamente. Porém, por uma limitação da GPU em lidar com strings diretamente, foi necessário deixar apenas a parte do cálculo da matriz na GPU, sem enviar todas as combinações de uma vez,  diminuindo drasticamente seu desempenho, mesmo quando combinada com o OpenMP. Tal fato é proveniente da penalidade que existe ao rodar um código com grande parte sequencial em uma GPU.\n",
    "\n",
    "Desse modo, o paralelismo com GPU ainda é a melhor opção para uma grande quantidade de dados, desde que o algoritmo seja aplicado da maneira correta, sendo necessárias iterações para que o desempenho do código apresentado melhore significamente. Por fim, no último relatório foi possível observar que utilizar uma Heurística, embora não garanta um resultado ótimo, é uma opção que deve ser considerada para problemas complexos como esse, haja vista seu tempo de execução extremamente baixo frente aos tempos elevados que a Busca exaustiva fornece."
   ]
  },
  {
   "cell_type": "markdown",
   "id": "e48efddb",
   "metadata": {},
   "source": []
  }
 ],
 "metadata": {
  "kernelspec": {
   "display_name": "Python 3 (ipykernel)",
   "language": "python",
   "name": "python3"
  },
  "language_info": {
   "codemirror_mode": {
    "name": "ipython",
    "version": 3
   },
   "file_extension": ".py",
   "mimetype": "text/x-python",
   "name": "python",
   "nbconvert_exporter": "python",
   "pygments_lexer": "ipython3",
   "version": "3.8.10"
  }
 },
 "nbformat": 4,
 "nbformat_minor": 5
}
