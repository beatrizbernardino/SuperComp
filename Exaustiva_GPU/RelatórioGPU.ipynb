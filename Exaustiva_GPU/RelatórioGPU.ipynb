{
 "cells": [
  {
   "cell_type": "markdown",
   "id": "756e8a7c",
   "metadata": {},
   "source": [
    "### Busca Exaustiva Paralelizada com GPU\n",
    "---"
   ]
  },
  {
   "cell_type": "markdown",
   "id": "5934166d",
   "metadata": {},
   "source": [
    "Como mostrado no relatório intermediário, a busca exaustiva foi o método que precisava de maior poder computacional, demorando mais tempo. Por isso, foi escolhida a busca exaustiva com o score calculado a partir da Heurística de Smith-Waterman para ser otimizada com o auxílio de uma GPU.\n",
    "\n",
    "Para isso, fez-se uso da biblioteca Thrust com o objetivo inicial de que cada combinação de subsequências fosse calculada simultaneamente com as outras, gerando assim uma vazão de dados muito grande. Porém, a GPU possui uma limitação grande ao lidar com strings e, por esse motivo, ao invés de enviar todas as subsequências para a GPU como desejável, apenas a parte do cálculo da matriz foi otimizado com esse atributo, resultando em uma perfomance inferior à desejável. Para tentar otimizar esse resultado, fez-se uso do openmp novamente, para que a geração de cada combinação pudesse ser paralelizada  também.\n",
    "\n",
    "Mesmo assim, o resultado obtido ainda foi inferior ao desejado. Isso ocorreu pois a vazão de dados enviada para a GPU não foi grande o suficiente, haja vista que apenas uma combinação é calculada por vez, e por isso ela não obteve um desempenho melhor que os outros métodos."
   ]
  },
  {
   "cell_type": "markdown",
   "id": "30ea7f50",
   "metadata": {},
   "source": [
    "#### Como rodar \n",
    "---"
   ]
  },
  {
   "cell_type": "markdown",
   "id": "a4ad7686",
   "metadata": {},
   "source": [
    "Anexado ao presente relatório, segue um arquivo executável ***exaustiva_final***. Por utilizar a GPU, é necessário rodá-lo em um ambiente que possua uma GPU, como o google colab.  Para isso:"
   ]
  },
  {
   "cell_type": "markdown",
   "id": "6c6b0e4b",
   "metadata": {},
   "source": [
    "                                    ./exaustiva_final < dna.seq "
   ]
  },
  {
   "cell_type": "markdown",
   "id": "e132153c",
   "metadata": {},
   "source": [
    "E o score máximo obtido será obtido."
   ]
  },
  {
   "cell_type": "code",
   "execution_count": null,
   "id": "b10ba93a",
   "metadata": {},
   "outputs": [],
   "source": []
  }
 ],
 "metadata": {
  "kernelspec": {
   "display_name": "Python 3 (ipykernel)",
   "language": "python",
   "name": "python3"
  },
  "language_info": {
   "codemirror_mode": {
    "name": "ipython",
    "version": 3
   },
   "file_extension": ".py",
   "mimetype": "text/x-python",
   "name": "python",
   "nbconvert_exporter": "python",
   "pygments_lexer": "ipython3",
   "version": "3.8.10"
  }
 },
 "nbformat": 4,
 "nbformat_minor": 5
}
